{
 "cells": [
  {
   "cell_type": "markdown",
   "id": "689633b5",
   "metadata": {
    "cell_marker": "\"\"\""
   },
   "source": [
    "# Example 3: Combining fragility-based damage consequences and loss functions.\n",
    "\n",
    "Tests a complete loss estimation workflow combining damage state and\n",
    "loss function driven components. The code is based on PRJ-3411v5\n",
    "hosted on DesignSafe."
   ]
  },
  {
   "cell_type": "code",
   "execution_count": 1,
   "id": "ffae715f",
   "metadata": {
    "execution": {
     "iopub.execute_input": "2025-08-08T03:40:30.942221Z",
     "iopub.status.busy": "2025-08-08T03:40:30.941972Z",
     "iopub.status.idle": "2025-08-08T03:40:31.656729Z",
     "shell.execute_reply": "2025-08-08T03:40:31.655945Z"
    }
   },
   "outputs": [],
   "source": [
    "import tempfile\n",
    "\n",
    "import numpy as np\n",
    "import pandas as pd\n",
    "import pytest\n",
    "\n",
    "import pelicun\n",
    "from pelicun import assessment, file_io\n",
    "from pelicun.pelicun_warnings import PelicunWarning"
   ]
  },
  {
   "cell_type": "code",
   "execution_count": 2,
   "id": "59bbd50e",
   "metadata": {
    "execution": {
     "iopub.execute_input": "2025-08-08T03:40:31.659324Z",
     "iopub.status.busy": "2025-08-08T03:40:31.658976Z",
     "iopub.status.idle": "2025-08-08T03:40:31.662513Z",
     "shell.execute_reply": "2025-08-08T03:40:31.661802Z"
    }
   },
   "outputs": [],
   "source": [
    "temp_dir = tempfile.mkdtemp()\n",
    "\n",
    "sample_size = 10000"
   ]
  },
  {
   "cell_type": "code",
   "execution_count": 3,
   "id": "4d030fd5",
   "metadata": {
    "execution": {
     "iopub.execute_input": "2025-08-08T03:40:31.664442Z",
     "iopub.status.busy": "2025-08-08T03:40:31.664231Z",
     "iopub.status.idle": "2025-08-08T03:40:31.688415Z",
     "shell.execute_reply": "2025-08-08T03:40:31.687675Z"
    }
   },
   "outputs": [
    {
     "name": "stdout",
     "output_type": "stream",
     "text": [
      "pelicun 3.7.0 | "
     ]
    },
    {
     "name": "stdout",
     "output_type": "stream",
     "text": [
      "\n"
     ]
    },
    {
     "name": "stdout",
     "output_type": "stream",
     "text": [
      "\n"
     ]
    },
    {
     "name": "stdout",
     "output_type": "stream",
     "text": [
      "System Information:"
     ]
    },
    {
     "name": "stdout",
     "output_type": "stream",
     "text": [
      "\n"
     ]
    },
    {
     "name": "stdout",
     "output_type": "stream",
     "text": [
      "         local time zone: UTC"
     ]
    },
    {
     "name": "stdout",
     "output_type": "stream",
     "text": [
      "\n"
     ]
    },
    {
     "name": "stdout",
     "output_type": "stream",
     "text": [
      "         start time: 2025-08-08T03:40:31"
     ]
    },
    {
     "name": "stdout",
     "output_type": "stream",
     "text": [
      "\n"
     ]
    },
    {
     "name": "stdout",
     "output_type": "stream",
     "text": [
      "         python: 3.10.18 (main, Jun  4 2025, 04:04:42) [GCC 13.3.0]"
     ]
    },
    {
     "name": "stdout",
     "output_type": "stream",
     "text": [
      "\n"
     ]
    },
    {
     "name": "stdout",
     "output_type": "stream",
     "text": [
      "         numpy: 1.26.4"
     ]
    },
    {
     "name": "stdout",
     "output_type": "stream",
     "text": [
      "\n"
     ]
    },
    {
     "name": "stdout",
     "output_type": "stream",
     "text": [
      "         pandas: 2.3.1"
     ]
    },
    {
     "name": "stdout",
     "output_type": "stream",
     "text": [
      "\n"
     ]
    },
    {
     "name": "stdout",
     "output_type": "stream",
     "text": [
      "         "
     ]
    },
    {
     "name": "stdout",
     "output_type": "stream",
     "text": [
      "\n"
     ]
    },
    {
     "name": "stdout",
     "output_type": "stream",
     "text": [
      "         --------------------------------------------------------------------------------"
     ]
    },
    {
     "name": "stdout",
     "output_type": "stream",
     "text": [
      "\n"
     ]
    },
    {
     "name": "stdout",
     "output_type": "stream",
     "text": [
      "03:40:31 Assessment Started"
     ]
    },
    {
     "name": "stdout",
     "output_type": "stream",
     "text": [
      "\n"
     ]
    }
   ],
   "source": [
    "# Initialize a pelicun assessment\n",
    "asmnt = assessment.Assessment(\n",
    "    {'PrintLog': True, 'Seed': 415, 'LogFile': f'{temp_dir}/log_file.txt'}\n",
    ")\n",
    "\n",
    "asmnt.options.list_all_ds = True\n",
    "asmnt.options.eco_scale['AcrossFloors'] = True\n",
    "asmnt.options.eco_scale['AcrossDamageStates'] = True"
   ]
  },
  {
   "cell_type": "code",
   "execution_count": 4,
   "id": "00b8cc39",
   "metadata": {
    "execution": {
     "iopub.execute_input": "2025-08-08T03:40:31.690568Z",
     "iopub.status.busy": "2025-08-08T03:40:31.690363Z",
     "iopub.status.idle": "2025-08-08T03:40:31.699426Z",
     "shell.execute_reply": "2025-08-08T03:40:31.698837Z"
    }
   },
   "outputs": [],
   "source": [
    "demand_data = file_io.load_data(\n",
    "    'example_3/demand_data.csv',\n",
    "    unit_conversion_factors=None,\n",
    "    reindex=False,\n",
    ")\n",
    "ndims = len(demand_data)\n",
    "perfect_correlation = pd.DataFrame(\n",
    "    np.ones((ndims, ndims)),\n",
    "    columns=demand_data.index,  # type: ignore\n",
    "    index=demand_data.index,  # type: ignore\n",
    ")"
   ]
  },
  {
   "cell_type": "code",
   "execution_count": 5,
   "id": "64d40a11",
   "metadata": {
    "execution": {
     "iopub.execute_input": "2025-08-08T03:40:31.701431Z",
     "iopub.status.busy": "2025-08-08T03:40:31.701232Z",
     "iopub.status.idle": "2025-08-08T03:40:31.715589Z",
     "shell.execute_reply": "2025-08-08T03:40:31.714857Z"
    }
   },
   "outputs": [],
   "source": [
    "#\n",
    "# Additional damage state-driven components\n",
    "#\n",
    "\n",
    "damage_db = pelicun.file_io.load_data(\n",
    "    'example_3/additional_damage_db.csv',\n",
    "    reindex=False,\n",
    "    unit_conversion_factors=asmnt.unit_conversion_factors,\n",
    ")\n",
    "consequences = pelicun.file_io.load_data(\n",
    "    'example_3/additional_consequences.csv',\n",
    "    reindex=False,\n",
    "    unit_conversion_factors=asmnt.unit_conversion_factors,\n",
    ")"
   ]
  },
  {
   "cell_type": "code",
   "execution_count": 6,
   "id": "a9905112",
   "metadata": {
    "execution": {
     "iopub.execute_input": "2025-08-08T03:40:31.717691Z",
     "iopub.status.busy": "2025-08-08T03:40:31.717481Z",
     "iopub.status.idle": "2025-08-08T03:40:31.726386Z",
     "shell.execute_reply": "2025-08-08T03:40:31.725624Z"
    }
   },
   "outputs": [],
   "source": [
    "#\n",
    "# Additional loss function-driven components\n",
    "#\n",
    "\n",
    "loss_functions = pelicun.file_io.load_data(\n",
    "    'example_3/additional_loss_functions.csv',\n",
    "    reindex=False,\n",
    "    unit_conversion_factors=asmnt.unit_conversion_factors,\n",
    ")"
   ]
  },
  {
   "cell_type": "code",
   "execution_count": 7,
   "id": "bc49da2d",
   "metadata": {
    "execution": {
     "iopub.execute_input": "2025-08-08T03:40:31.728501Z",
     "iopub.status.busy": "2025-08-08T03:40:31.728290Z",
     "iopub.status.idle": "2025-08-08T03:40:32.135503Z",
     "shell.execute_reply": "2025-08-08T03:40:32.134862Z"
    }
   },
   "outputs": [
    {
     "name": "stdout",
     "output_type": "stream",
     "text": [
      "         --------------------------------------------------------------------------------"
     ]
    },
    {
     "name": "stdout",
     "output_type": "stream",
     "text": [
      "\n"
     ]
    },
    {
     "name": "stdout",
     "output_type": "stream",
     "text": [
      "03:40:31 Loading demand model..."
     ]
    },
    {
     "name": "stdout",
     "output_type": "stream",
     "text": [
      "\n"
     ]
    },
    {
     "name": "stdout",
     "output_type": "stream",
     "text": [
      "         Unit conversion successful."
     ]
    },
    {
     "name": "stdout",
     "output_type": "stream",
     "text": [
      "\n"
     ]
    },
    {
     "name": "stdout",
     "output_type": "stream",
     "text": [
      "         Demand model successfully loaded."
     ]
    },
    {
     "name": "stdout",
     "output_type": "stream",
     "text": [
      "\n"
     ]
    },
    {
     "name": "stdout",
     "output_type": "stream",
     "text": [
      "         --------------------------------------------------------------------------------"
     ]
    },
    {
     "name": "stdout",
     "output_type": "stream",
     "text": [
      "\n"
     ]
    },
    {
     "name": "stdout",
     "output_type": "stream",
     "text": [
      "03:40:31 Generating sample from demand variables..."
     ]
    },
    {
     "name": "stdout",
     "output_type": "stream",
     "text": [
      "\n"
     ]
    },
    {
     "name": "stdout",
     "output_type": "stream",
     "text": [
      "         "
     ]
    },
    {
     "name": "stdout",
     "output_type": "stream",
     "text": [
      "\n"
     ]
    },
    {
     "name": "stdout",
     "output_type": "stream",
     "text": [
      "         18 random variables created."
     ]
    },
    {
     "name": "stdout",
     "output_type": "stream",
     "text": [
      "\n"
     ]
    },
    {
     "name": "stdout",
     "output_type": "stream",
     "text": [
      "         "
     ]
    },
    {
     "name": "stdout",
     "output_type": "stream",
     "text": [
      "\n"
     ]
    },
    {
     "name": "stdout",
     "output_type": "stream",
     "text": [
      "         Correlations between 18 random variables successfully defined."
     ]
    },
    {
     "name": "stdout",
     "output_type": "stream",
     "text": [
      "\n"
     ]
    },
    {
     "name": "stdout",
     "output_type": "stream",
     "text": [
      "         "
     ]
    },
    {
     "name": "stdout",
     "output_type": "stream",
     "text": [
      "\n"
     ]
    },
    {
     "name": "stdout",
     "output_type": "stream",
     "text": [
      "         Successfully generated 10000 realizations."
     ]
    },
    {
     "name": "stdout",
     "output_type": "stream",
     "text": [
      "\n"
     ]
    },
    {
     "name": "stdout",
     "output_type": "stream",
     "text": [
      "         --------------------------------------------------------------------------------"
     ]
    },
    {
     "name": "stdout",
     "output_type": "stream",
     "text": [
      "\n"
     ]
    },
    {
     "name": "stdout",
     "output_type": "stream",
     "text": [
      "         Preparing data ..."
     ]
    },
    {
     "name": "stdout",
     "output_type": "stream",
     "text": [
      "\n"
     ]
    },
    {
     "name": "stdout",
     "output_type": "stream",
     "text": [
      "         Converting units..."
     ]
    },
    {
     "name": "stdout",
     "output_type": "stream",
     "text": [
      "\n"
     ]
    },
    {
     "name": "stdout",
     "output_type": "stream",
     "text": [
      "         Unit conversion successful."
     ]
    },
    {
     "name": "stdout",
     "output_type": "stream",
     "text": [
      "\n"
     ]
    },
    {
     "name": "stdout",
     "output_type": "stream",
     "text": [
      "         --------------------------------------------------------------------------------"
     ]
    },
    {
     "name": "stdout",
     "output_type": "stream",
     "text": [
      "\n"
     ]
    },
    {
     "name": "stdout",
     "output_type": "stream",
     "text": [
      "03:40:31 Loading demand data..."
     ]
    },
    {
     "name": "stdout",
     "output_type": "stream",
     "text": [
      "\n"
     ]
    },
    {
     "name": "stdout",
     "output_type": "stream",
     "text": [
      "         Converting units..."
     ]
    },
    {
     "name": "stdout",
     "output_type": "stream",
     "text": [
      "\n"
     ]
    },
    {
     "name": "stdout",
     "output_type": "stream",
     "text": [
      "         Unit conversion successful."
     ]
    },
    {
     "name": "stdout",
     "output_type": "stream",
     "text": [
      "\n"
     ]
    },
    {
     "name": "stdout",
     "output_type": "stream",
     "text": [
      "         Demand data successfully parsed."
     ]
    },
    {
     "name": "stdout",
     "output_type": "stream",
     "text": [
      "\n"
     ]
    },
    {
     "name": "stdout",
     "output_type": "stream",
     "text": [
      "         Demand units successfully parsed."
     ]
    },
    {
     "name": "stdout",
     "output_type": "stream",
     "text": [
      "\n"
     ]
    }
   ],
   "source": [
    "#\n",
    "# Demands\n",
    "#\n",
    "\n",
    "# Load the demand model\n",
    "asmnt.demand.load_model(\n",
    "    {'marginals': demand_data, 'correlation': perfect_correlation}\n",
    ")\n",
    "\n",
    "# Generate samples\n",
    "asmnt.demand.generate_sample({'SampleSize': sample_size})\n",
    "\n",
    "\n",
    "def add_more_edps() -> None:\n",
    "    \"\"\"Add SA_1.13 and residual drift to the demand sample.\"\"\"\n",
    "    # Add residual drift and Sa\n",
    "    demand_sample = asmnt.demand.save_sample()\n",
    "\n",
    "    # RIDs are all fixed for testing.\n",
    "    rid = pd.concat(\n",
    "        [\n",
    "            pd.DataFrame(\n",
    "                np.full(demand_sample['PID'].shape, 0.0050),  # type: ignore\n",
    "                index=demand_sample['PID'].index,  # type: ignore\n",
    "                columns=demand_sample['PID'].columns,  # type: ignore\n",
    "            )\n",
    "        ],\n",
    "        axis=1,\n",
    "        keys=['RID'],\n",
    "    )\n",
    "    demand_sample_ext = pd.concat([demand_sample, rid], axis=1)  # type: ignore\n",
    "\n",
    "    demand_sample_ext['SA_1.13', 0, 1] = 1.50\n",
    "\n",
    "    # Add units to the data\n",
    "    demand_sample_ext.T.insert(0, 'Units', '')\n",
    "\n",
    "    # PFA and SA are in \"g\" in this example, while PID and RID are \"rad\"\n",
    "    demand_sample_ext.loc['Units', ['PFA', 'SA_1.13']] = 'g'\n",
    "    demand_sample_ext.loc['Units', ['PID', 'RID']] = 'rad'\n",
    "\n",
    "    asmnt.demand.load_sample(demand_sample_ext)\n",
    "\n",
    "\n",
    "add_more_edps()"
   ]
  },
  {
   "cell_type": "code",
   "execution_count": 8,
   "id": "0c1499cf",
   "metadata": {
    "execution": {
     "iopub.execute_input": "2025-08-08T03:40:32.137607Z",
     "iopub.status.busy": "2025-08-08T03:40:32.137382Z",
     "iopub.status.idle": "2025-08-08T03:40:32.233080Z",
     "shell.execute_reply": "2025-08-08T03:40:32.232355Z"
    }
   },
   "outputs": [
    {
     "name": "stdout",
     "output_type": "stream",
     "text": [
      "         --------------------------------------------------------------------------------"
     ]
    },
    {
     "name": "stdout",
     "output_type": "stream",
     "text": [
      "\n"
     ]
    },
    {
     "name": "stdout",
     "output_type": "stream",
     "text": [
      "03:40:32 Loading component model..."
     ]
    },
    {
     "name": "stdout",
     "output_type": "stream",
     "text": [
      "\n"
     ]
    },
    {
     "name": "stdout",
     "output_type": "stream",
     "text": [
      "         Unit conversion successful."
     ]
    },
    {
     "name": "stdout",
     "output_type": "stream",
     "text": [
      "\n"
     ]
    },
    {
     "name": "stdout",
     "output_type": "stream",
     "text": [
      "         Model parameters successfully parsed. 8 performance groups identified"
     ]
    },
    {
     "name": "stdout",
     "output_type": "stream",
     "text": [
      "\n"
     ]
    },
    {
     "name": "stdout",
     "output_type": "stream",
     "text": [
      "         Converting model parameters to internal units..."
     ]
    },
    {
     "name": "stdout",
     "output_type": "stream",
     "text": [
      "\n"
     ]
    },
    {
     "name": "stdout",
     "output_type": "stream",
     "text": [
      "         Model parameters successfully loaded."
     ]
    },
    {
     "name": "stdout",
     "output_type": "stream",
     "text": [
      "\n"
     ]
    },
    {
     "name": "stdout",
     "output_type": "stream",
     "text": [
      "         "
     ]
    },
    {
     "name": "stdout",
     "output_type": "stream",
     "text": [
      "\n"
     ]
    },
    {
     "name": "stdout",
     "output_type": "stream",
     "text": [
      "         Component model marginal distributions:"
     ]
    },
    {
     "name": "stdout",
     "output_type": "stream",
     "text": [
      "\n"
     ]
    },
    {
     "name": "stdout",
     "output_type": "stream",
     "text": [
      "                                          Theta_0  Blocks Units"
     ]
    },
    {
     "name": "stdout",
     "output_type": "stream",
     "text": [
      "\n"
     ]
    },
    {
     "name": "stdout",
     "output_type": "stream",
     "text": [
      "         cmp                 loc dir uid                       "
     ]
    },
    {
     "name": "stdout",
     "output_type": "stream",
     "text": [
      "\n"
     ]
    },
    {
     "name": "stdout",
     "output_type": "stream",
     "text": [
      "         D.30.31.013i        2   0   0        1.0       1    ea"
     ]
    },
    {
     "name": "stdout",
     "output_type": "stream",
     "text": [
      "\n"
     ]
    },
    {
     "name": "stdout",
     "output_type": "stream",
     "text": [
      "         collapse            0   1   0        1.0       1    ea"
     ]
    },
    {
     "name": "stdout",
     "output_type": "stream",
     "text": [
      "\n"
     ]
    },
    {
     "name": "stdout",
     "output_type": "stream",
     "text": [
      "         excessiveRID        1   1   0        1.0       1    ea"
     ]
    },
    {
     "name": "stdout",
     "output_type": "stream",
     "text": [
      "\n"
     ]
    },
    {
     "name": "stdout",
     "output_type": "stream",
     "text": [
      "                                 2   0        1.0       1    ea"
     ]
    },
    {
     "name": "stdout",
     "output_type": "stream",
     "text": [
      "\n"
     ]
    },
    {
     "name": "stdout",
     "output_type": "stream",
     "text": [
      "         irreparable         0   1   0        1.0       1    ea"
     ]
    },
    {
     "name": "stdout",
     "output_type": "stream",
     "text": [
      "\n"
     ]
    },
    {
     "name": "stdout",
     "output_type": "stream",
     "text": [
      "         missing.component   0   1   0        1.0       1    ea"
     ]
    },
    {
     "name": "stdout",
     "output_type": "stream",
     "text": [
      "\n"
     ]
    },
    {
     "name": "stdout",
     "output_type": "stream",
     "text": [
      "         testing.component   1   1   0        1.0       1    ea"
     ]
    },
    {
     "name": "stdout",
     "output_type": "stream",
     "text": [
      "\n"
     ]
    },
    {
     "name": "stdout",
     "output_type": "stream",
     "text": [
      "         testing.component.2 1   1   0        2.0       4    ea"
     ]
    },
    {
     "name": "stdout",
     "output_type": "stream",
     "text": [
      "\n"
     ]
    },
    {
     "name": "stdout",
     "output_type": "stream",
     "text": [
      "         --------------------------------------------------------------------------------"
     ]
    },
    {
     "name": "stdout",
     "output_type": "stream",
     "text": [
      "\n"
     ]
    },
    {
     "name": "stdout",
     "output_type": "stream",
     "text": [
      "03:40:32 Generating sample from component quantity variables..."
     ]
    },
    {
     "name": "stdout",
     "output_type": "stream",
     "text": [
      "\n"
     ]
    },
    {
     "name": "stdout",
     "output_type": "stream",
     "text": [
      "         "
     ]
    },
    {
     "name": "stdout",
     "output_type": "stream",
     "text": [
      "\n"
     ]
    },
    {
     "name": "stdout",
     "output_type": "stream",
     "text": [
      "         8 random variables created."
     ]
    },
    {
     "name": "stdout",
     "output_type": "stream",
     "text": [
      "\n"
     ]
    },
    {
     "name": "stdout",
     "output_type": "stream",
     "text": [
      "         "
     ]
    },
    {
     "name": "stdout",
     "output_type": "stream",
     "text": [
      "\n"
     ]
    },
    {
     "name": "stdout",
     "output_type": "stream",
     "text": [
      "         Successfully generated 10000 realizations."
     ]
    },
    {
     "name": "stdout",
     "output_type": "stream",
     "text": [
      "\n"
     ]
    }
   ],
   "source": [
    "#\n",
    "# Asset\n",
    "#\n",
    "\n",
    "# Specify number of stories\n",
    "asmnt.stories = 1\n",
    "\n",
    "# Load component definitions\n",
    "cmp_marginals = pd.read_csv('example_3/CMP_marginals.csv', index_col=0)\n",
    "cmp_marginals['Blocks'] = cmp_marginals['Blocks']\n",
    "asmnt.asset.load_cmp_model({'marginals': cmp_marginals})\n",
    "\n",
    "# Generate sample\n",
    "asmnt.asset.generate_cmp_sample(sample_size)"
   ]
  },
  {
   "cell_type": "code",
   "execution_count": 9,
   "id": "531cc6ca",
   "metadata": {
    "execution": {
     "iopub.execute_input": "2025-08-08T03:40:32.235176Z",
     "iopub.status.busy": "2025-08-08T03:40:32.234937Z",
     "iopub.status.idle": "2025-08-08T03:40:32.567507Z",
     "shell.execute_reply": "2025-08-08T03:40:32.566790Z"
    }
   },
   "outputs": [
    {
     "name": "stdout",
     "output_type": "stream",
     "text": [
      "         --------------------------------------------------------------------------------"
     ]
    },
    {
     "name": "stdout",
     "output_type": "stream",
     "text": [
      "\n"
     ]
    },
    {
     "name": "stdout",
     "output_type": "stream",
     "text": [
      "         Loading damage model..."
     ]
    },
    {
     "name": "stdout",
     "output_type": "stream",
     "text": [
      "\n"
     ]
    },
    {
     "name": "stdout",
     "output_type": "stream",
     "text": [
      "\n",
      "         "
     ]
    },
    {
     "name": "stdout",
     "output_type": "stream",
     "text": [
      "Default libraries are no longer referenced using the following placeholder filenames after \"PelicunDB/\": `fragility_DB...`, `damage_DB...`, `bldg_repair_DB...`, `loss_repair_DB...`. Such inputs will lead to errors in future versions of pelicun. Please replace such references with a combination of a specific method and data type. For example, use `PelicunDefault/FEMA P-58/fragility` to get FEMA P-58 damage models, and `PelicunDefault/Hazus Hurricane/consequence_repair` to get Hazus hurricane consequence models. See the online documentation for more details."
     ]
    },
    {
     "name": "stdout",
     "output_type": "stream",
     "text": [
      "\n"
     ]
    },
    {
     "name": "stdout",
     "output_type": "stream",
     "text": [
      "\n"
     ]
    },
    {
     "name": "stdout",
     "output_type": "stream",
     "text": [
      "         Damage model parameters loaded successfully."
     ]
    },
    {
     "name": "stdout",
     "output_type": "stream",
     "text": [
      "\n"
     ]
    },
    {
     "name": "stdout",
     "output_type": "stream",
     "text": [
      "         Removing unused damage model parameters."
     ]
    },
    {
     "name": "stdout",
     "output_type": "stream",
     "text": [
      "\n"
     ]
    },
    {
     "name": "stdout",
     "output_type": "stream",
     "text": [
      "         Converting damage model parameter units."
     ]
    },
    {
     "name": "stdout",
     "output_type": "stream",
     "text": [
      "\n"
     ]
    },
    {
     "name": "stdout",
     "output_type": "stream",
     "text": [
      "         Checking damage model parameter availability for all components in the asset model."
     ]
    },
    {
     "name": "stdout",
     "output_type": "stream",
     "text": [
      "\n"
     ]
    },
    {
     "name": "stdout",
     "output_type": "stream",
     "text": [
      "\n",
      "         "
     ]
    },
    {
     "name": "stdout",
     "output_type": "stream",
     "text": [
      "The damage model does not provide damage information for the following component(s) in the asset model: ['testing.component.2', 'testing.component', 'missing.component']."
     ]
    },
    {
     "name": "stdout",
     "output_type": "stream",
     "text": [
      "\n"
     ]
    },
    {
     "name": "stdout",
     "output_type": "stream",
     "text": [
      "\n"
     ]
    },
    {
     "name": "stdout",
     "output_type": "stream",
     "text": [
      "         --------------------------------------------------------------------------------"
     ]
    },
    {
     "name": "stdout",
     "output_type": "stream",
     "text": [
      "\n"
     ]
    },
    {
     "name": "stdout",
     "output_type": "stream",
     "text": [
      "03:40:32 Calculating damages..."
     ]
    },
    {
     "name": "stdout",
     "output_type": "stream",
     "text": [
      "\n"
     ]
    },
    {
     "name": "stdout",
     "output_type": "stream",
     "text": [
      "         Number of Performance Groups in Asset Model: 8"
     ]
    },
    {
     "name": "stdout",
     "output_type": "stream",
     "text": [
      "\n"
     ]
    },
    {
     "name": "stdout",
     "output_type": "stream",
     "text": [
      "         Number of Component Blocks: 5"
     ]
    },
    {
     "name": "stdout",
     "output_type": "stream",
     "text": [
      "\n"
     ]
    },
    {
     "name": "stdout",
     "output_type": "stream",
     "text": [
      "         1 batches of Performance Groups prepared for damage assessment"
     ]
    },
    {
     "name": "stdout",
     "output_type": "stream",
     "text": [
      "\n"
     ]
    },
    {
     "name": "stdout",
     "output_type": "stream",
     "text": [
      "03:40:32 Calculating damage states for PG batch 1 with 5 blocks"
     ]
    },
    {
     "name": "stdout",
     "output_type": "stream",
     "text": [
      "\n"
     ]
    },
    {
     "name": "stdout",
     "output_type": "stream",
     "text": [
      "         Damage state calculation successful."
     ]
    },
    {
     "name": "stdout",
     "output_type": "stream",
     "text": [
      "\n"
     ]
    },
    {
     "name": "stdout",
     "output_type": "stream",
     "text": [
      "03:40:32 Applying damage processes."
     ]
    },
    {
     "name": "stdout",
     "output_type": "stream",
     "text": [
      "\n"
     ]
    },
    {
     "name": "stdout",
     "output_type": "stream",
     "text": [
      "         Damage processes successfully applied."
     ]
    },
    {
     "name": "stdout",
     "output_type": "stream",
     "text": [
      "\n"
     ]
    },
    {
     "name": "stdout",
     "output_type": "stream",
     "text": [
      "         Damage calculation completed."
     ]
    },
    {
     "name": "stdout",
     "output_type": "stream",
     "text": [
      "\n"
     ]
    },
    {
     "name": "stdout",
     "output_type": "stream",
     "text": [
      "         --------------------------------------------------------------------------------"
     ]
    },
    {
     "name": "stdout",
     "output_type": "stream",
     "text": [
      "\n"
     ]
    },
    {
     "name": "stdout",
     "output_type": "stream",
     "text": [
      "03:40:32 Saving damage sample..."
     ]
    },
    {
     "name": "stdout",
     "output_type": "stream",
     "text": [
      "\n"
     ]
    },
    {
     "name": "stdout",
     "output_type": "stream",
     "text": [
      "         Saving data to `/tmp/tmpr77dyv0t/out.csv`..."
     ]
    },
    {
     "name": "stdout",
     "output_type": "stream",
     "text": [
      "\n"
     ]
    },
    {
     "name": "stdout",
     "output_type": "stream",
     "text": [
      "         Converting units..."
     ]
    },
    {
     "name": "stdout",
     "output_type": "stream",
     "text": [
      "\n"
     ]
    },
    {
     "name": "stdout",
     "output_type": "stream",
     "text": [
      "         Unit conversion successful."
     ]
    },
    {
     "name": "stdout",
     "output_type": "stream",
     "text": [
      "\n"
     ]
    },
    {
     "name": "stdout",
     "output_type": "stream",
     "text": [
      "         Data successfully saved to file."
     ]
    },
    {
     "name": "stdout",
     "output_type": "stream",
     "text": [
      "\n"
     ]
    },
    {
     "name": "stdout",
     "output_type": "stream",
     "text": [
      "         Damage sample successfully saved."
     ]
    },
    {
     "name": "stdout",
     "output_type": "stream",
     "text": [
      "\n"
     ]
    },
    {
     "name": "stdout",
     "output_type": "stream",
     "text": [
      "         --------------------------------------------------------------------------------"
     ]
    },
    {
     "name": "stdout",
     "output_type": "stream",
     "text": [
      "\n"
     ]
    },
    {
     "name": "stdout",
     "output_type": "stream",
     "text": [
      "03:40:32 Loading damage sample..."
     ]
    },
    {
     "name": "stdout",
     "output_type": "stream",
     "text": [
      "\n"
     ]
    },
    {
     "name": "stdout",
     "output_type": "stream",
     "text": [
      "         Converting units..."
     ]
    },
    {
     "name": "stdout",
     "output_type": "stream",
     "text": [
      "\n"
     ]
    },
    {
     "name": "stdout",
     "output_type": "stream",
     "text": [
      "         Unit conversion successful."
     ]
    },
    {
     "name": "stdout",
     "output_type": "stream",
     "text": [
      "\n"
     ]
    },
    {
     "name": "stdout",
     "output_type": "stream",
     "text": [
      "         Damage sample successfully loaded."
     ]
    },
    {
     "name": "stdout",
     "output_type": "stream",
     "text": [
      "\n"
     ]
    }
   ],
   "source": [
    "#\n",
    "# Damage\n",
    "#\n",
    "\n",
    "cmp_set = set(asmnt.asset.list_unique_component_ids())\n",
    "\n",
    "# Load the models into pelicun\n",
    "asmnt.damage.load_model_parameters(\n",
    "    [\n",
    "        damage_db,  # type: ignore\n",
    "        'PelicunDefault/damage_DB_FEMA_P58_2nd.csv',\n",
    "    ],\n",
    "    cmp_set,\n",
    ")\n",
    "\n",
    "# Prescribe the damage process\n",
    "dmg_process = {\n",
    "    '1_collapse': {'DS1': 'ALL_NA'},\n",
    "    '2_excessiveRID': {'DS1': 'irreparable_DS1'},\n",
    "}\n",
    "\n",
    "# Calculate damages\n",
    "\n",
    "asmnt.damage.calculate(dmg_process=dmg_process)\n",
    "\n",
    "# Test load sample, save sample\n",
    "asmnt.damage.save_sample(f'{temp_dir}/out.csv')\n",
    "asmnt.damage.load_sample(f'{temp_dir}/out.csv')"
   ]
  },
  {
   "cell_type": "code",
   "execution_count": 10,
   "id": "6c59ed6a",
   "metadata": {
    "execution": {
     "iopub.execute_input": "2025-08-08T03:40:32.569561Z",
     "iopub.status.busy": "2025-08-08T03:40:32.569345Z",
     "iopub.status.idle": "2025-08-08T03:40:32.572568Z",
     "shell.execute_reply": "2025-08-08T03:40:32.571894Z"
    },
    "lines_to_next_cell": 0,
    "nbsphinx": "hidden"
   },
   "outputs": [],
   "source": [
    "assert asmnt.damage.ds_model.sample is not None"
   ]
  },
  {
   "cell_type": "code",
   "execution_count": 11,
   "id": "be7c183d",
   "metadata": {
    "execution": {
     "iopub.execute_input": "2025-08-08T03:40:32.574316Z",
     "iopub.status.busy": "2025-08-08T03:40:32.574089Z",
     "iopub.status.idle": "2025-08-08T03:40:32.582927Z",
     "shell.execute_reply": "2025-08-08T03:40:32.582264Z"
    }
   },
   "outputs": [
    {
     "data": {
      "text/plain": [
       "cmp           loc  dir  uid  ds\n",
       "D.30.31.013i  2    0    0    0     0.3194\n",
       "                             1     0.2282\n",
       "                             2     0.2236\n",
       "                             3     0.2288\n",
       "collapse      0    1    0    0     0.5000\n",
       "                             1     0.5000\n",
       "excessiveRID  1    1    0    0     0.9902\n",
       "                             1     0.0098\n",
       "                   2    0    0     0.9902\n",
       "                             1     0.0098\n",
       "irreparable   0    1    0    0     0.9804\n",
       "                             1     0.0196\n",
       "dtype: float64"
      ]
     },
     "execution_count": 11,
     "metadata": {},
     "output_type": "execute_result"
    }
   ],
   "source": [
    "asmnt.damage.ds_model.sample.mean()"
   ]
  },
  {
   "cell_type": "code",
   "execution_count": 12,
   "id": "976e59b0",
   "metadata": {
    "execution": {
     "iopub.execute_input": "2025-08-08T03:40:32.584838Z",
     "iopub.status.busy": "2025-08-08T03:40:32.584647Z",
     "iopub.status.idle": "2025-08-08T03:40:33.241057Z",
     "shell.execute_reply": "2025-08-08T03:40:33.240309Z"
    }
   },
   "outputs": [
    {
     "name": "stdout",
     "output_type": "stream",
     "text": [
      "03:40:32 Loading loss map..."
     ]
    },
    {
     "name": "stdout",
     "output_type": "stream",
     "text": [
      "\n"
     ]
    },
    {
     "name": "stdout",
     "output_type": "stream",
     "text": [
      "         Loss map is provided."
     ]
    },
    {
     "name": "stdout",
     "output_type": "stream",
     "text": [
      "\n"
     ]
    },
    {
     "name": "stdout",
     "output_type": "stream",
     "text": [
      "03:40:32 Loss map loaded successfully."
     ]
    },
    {
     "name": "stdout",
     "output_type": "stream",
     "text": [
      "\n"
     ]
    },
    {
     "name": "stdout",
     "output_type": "stream",
     "text": [
      "         --------------------------------------------------------------------------------"
     ]
    },
    {
     "name": "stdout",
     "output_type": "stream",
     "text": [
      "\n"
     ]
    },
    {
     "name": "stdout",
     "output_type": "stream",
     "text": [
      "03:40:32 Loading loss parameters..."
     ]
    },
    {
     "name": "stdout",
     "output_type": "stream",
     "text": [
      "\n"
     ]
    },
    {
     "name": "stdout",
     "output_type": "stream",
     "text": [
      "         Loss model parameters loaded successfully."
     ]
    },
    {
     "name": "stdout",
     "output_type": "stream",
     "text": [
      "\n"
     ]
    },
    {
     "name": "stdout",
     "output_type": "stream",
     "text": [
      "         Removing unused loss model parameters."
     ]
    },
    {
     "name": "stdout",
     "output_type": "stream",
     "text": [
      "\n"
     ]
    },
    {
     "name": "stdout",
     "output_type": "stream",
     "text": [
      "         Converting loss model parameter units."
     ]
    },
    {
     "name": "stdout",
     "output_type": "stream",
     "text": [
      "\n"
     ]
    },
    {
     "name": "stdout",
     "output_type": "stream",
     "text": [
      "         Checking loss model parameter availability for all components in the asset model."
     ]
    },
    {
     "name": "stdout",
     "output_type": "stream",
     "text": [
      "\n"
     ]
    },
    {
     "name": "stdout",
     "output_type": "stream",
     "text": [
      "         --------------------------------------------------------------------------------"
     ]
    },
    {
     "name": "stdout",
     "output_type": "stream",
     "text": [
      "\n"
     ]
    },
    {
     "name": "stdout",
     "output_type": "stream",
     "text": [
      "03:40:32 Calculating losses..."
     ]
    },
    {
     "name": "stdout",
     "output_type": "stream",
     "text": [
      "\n"
     ]
    },
    {
     "name": "stdout",
     "output_type": "stream",
     "text": [
      "         "
     ]
    },
    {
     "name": "stdout",
     "output_type": "stream",
     "text": [
      "\n"
     ]
    },
    {
     "name": "stdout",
     "output_type": "stream",
     "text": [
      "         Aggregating damage quantities..."
     ]
    },
    {
     "name": "stdout",
     "output_type": "stream",
     "text": [
      "\n"
     ]
    },
    {
     "name": "stdout",
     "output_type": "stream",
     "text": [
      "         Successfully aggregated damage quantities."
     ]
    },
    {
     "name": "stdout",
     "output_type": "stream",
     "text": [
      "\n"
     ]
    },
    {
     "name": "stdout",
     "output_type": "stream",
     "text": [
      "         "
     ]
    },
    {
     "name": "stdout",
     "output_type": "stream",
     "text": [
      "\n"
     ]
    },
    {
     "name": "stdout",
     "output_type": "stream",
     "text": [
      "         Calculating the median repair consequences..."
     ]
    },
    {
     "name": "stdout",
     "output_type": "stream",
     "text": [
      "\n"
     ]
    },
    {
     "name": "stdout",
     "output_type": "stream",
     "text": [
      "         Successfully determined median repair consequences."
     ]
    },
    {
     "name": "stdout",
     "output_type": "stream",
     "text": [
      "\n"
     ]
    },
    {
     "name": "stdout",
     "output_type": "stream",
     "text": [
      "03:40:32 "
     ]
    },
    {
     "name": "stdout",
     "output_type": "stream",
     "text": [
      "\n"
     ]
    },
    {
     "name": "stdout",
     "output_type": "stream",
     "text": [
      "         Considering deviations from the median values to obtain random DV sample..."
     ]
    },
    {
     "name": "stdout",
     "output_type": "stream",
     "text": [
      "\n"
     ]
    },
    {
     "name": "stdout",
     "output_type": "stream",
     "text": [
      "         Preparing random variables for repair consequences..."
     ]
    },
    {
     "name": "stdout",
     "output_type": "stream",
     "text": [
      "\n"
     ]
    },
    {
     "name": "stdout",
     "output_type": "stream",
     "text": [
      "         "
     ]
    },
    {
     "name": "stdout",
     "output_type": "stream",
     "text": [
      "\n"
     ]
    },
    {
     "name": "stdout",
     "output_type": "stream",
     "text": [
      "         6 random variables created."
     ]
    },
    {
     "name": "stdout",
     "output_type": "stream",
     "text": [
      "\n"
     ]
    },
    {
     "name": "stdout",
     "output_type": "stream",
     "text": [
      "         "
     ]
    },
    {
     "name": "stdout",
     "output_type": "stream",
     "text": [
      "\n"
     ]
    },
    {
     "name": "stdout",
     "output_type": "stream",
     "text": [
      "         Successfully generated 10000 realizations of deviation from the median consequences."
     ]
    },
    {
     "name": "stdout",
     "output_type": "stream",
     "text": [
      "\n"
     ]
    },
    {
     "name": "stdout",
     "output_type": "stream",
     "text": [
      "         Successfully obtained DV sample."
     ]
    },
    {
     "name": "stdout",
     "output_type": "stream",
     "text": [
      "\n"
     ]
    },
    {
     "name": "stdout",
     "output_type": "stream",
     "text": [
      "         "
     ]
    },
    {
     "name": "stdout",
     "output_type": "stream",
     "text": [
      "\n"
     ]
    },
    {
     "name": "stdout",
     "output_type": "stream",
     "text": [
      "         Calculating the median repair consequences..."
     ]
    },
    {
     "name": "stdout",
     "output_type": "stream",
     "text": [
      "\n"
     ]
    },
    {
     "name": "stdout",
     "output_type": "stream",
     "text": [
      "         Successfully determined median repair consequences."
     ]
    },
    {
     "name": "stdout",
     "output_type": "stream",
     "text": [
      "\n"
     ]
    },
    {
     "name": "stdout",
     "output_type": "stream",
     "text": [
      "03:40:32 "
     ]
    },
    {
     "name": "stdout",
     "output_type": "stream",
     "text": [
      "\n"
     ]
    },
    {
     "name": "stdout",
     "output_type": "stream",
     "text": [
      "         Considering deviations from the median values to obtain random DV sample..."
     ]
    },
    {
     "name": "stdout",
     "output_type": "stream",
     "text": [
      "\n"
     ]
    },
    {
     "name": "stdout",
     "output_type": "stream",
     "text": [
      "         Preparing random variables for repair cost and time..."
     ]
    },
    {
     "name": "stdout",
     "output_type": "stream",
     "text": [
      "\n"
     ]
    },
    {
     "name": "stdout",
     "output_type": "stream",
     "text": [
      "         "
     ]
    },
    {
     "name": "stdout",
     "output_type": "stream",
     "text": [
      "\n"
     ]
    },
    {
     "name": "stdout",
     "output_type": "stream",
     "text": [
      "         2 random variables created."
     ]
    },
    {
     "name": "stdout",
     "output_type": "stream",
     "text": [
      "\n"
     ]
    },
    {
     "name": "stdout",
     "output_type": "stream",
     "text": [
      "         "
     ]
    },
    {
     "name": "stdout",
     "output_type": "stream",
     "text": [
      "\n"
     ]
    },
    {
     "name": "stdout",
     "output_type": "stream",
     "text": [
      "         Successfully generated 10000 realizations of deviation from the median consequences."
     ]
    },
    {
     "name": "stdout",
     "output_type": "stream",
     "text": [
      "\n"
     ]
    },
    {
     "name": "stdout",
     "output_type": "stream",
     "text": [
      "         Successfully obtained DV sample."
     ]
    },
    {
     "name": "stdout",
     "output_type": "stream",
     "text": [
      "\n"
     ]
    },
    {
     "name": "stdout",
     "output_type": "stream",
     "text": [
      "03:40:32 Loss calculation successful."
     ]
    },
    {
     "name": "stdout",
     "output_type": "stream",
     "text": [
      "\n"
     ]
    },
    {
     "name": "stdout",
     "output_type": "stream",
     "text": [
      "         --------------------------------------------------------------------------------"
     ]
    },
    {
     "name": "stdout",
     "output_type": "stream",
     "text": [
      "\n"
     ]
    },
    {
     "name": "stdout",
     "output_type": "stream",
     "text": [
      "03:40:32 Saving loss sample..."
     ]
    },
    {
     "name": "stdout",
     "output_type": "stream",
     "text": [
      "\n"
     ]
    },
    {
     "name": "stdout",
     "output_type": "stream",
     "text": [
      "         Saving data to `/tmp/tmpr77dyv0t/sample.csv`..."
     ]
    },
    {
     "name": "stdout",
     "output_type": "stream",
     "text": [
      "\n"
     ]
    },
    {
     "name": "stdout",
     "output_type": "stream",
     "text": [
      "         Converting units..."
     ]
    },
    {
     "name": "stdout",
     "output_type": "stream",
     "text": [
      "\n"
     ]
    },
    {
     "name": "stdout",
     "output_type": "stream",
     "text": [
      "         Unit conversion successful."
     ]
    },
    {
     "name": "stdout",
     "output_type": "stream",
     "text": [
      "\n"
     ]
    },
    {
     "name": "stdout",
     "output_type": "stream",
     "text": [
      "         Data successfully saved to file."
     ]
    },
    {
     "name": "stdout",
     "output_type": "stream",
     "text": [
      "\n"
     ]
    },
    {
     "name": "stdout",
     "output_type": "stream",
     "text": [
      "         Loss sample successfully saved."
     ]
    },
    {
     "name": "stdout",
     "output_type": "stream",
     "text": [
      "\n"
     ]
    },
    {
     "name": "stdout",
     "output_type": "stream",
     "text": [
      "         --------------------------------------------------------------------------------"
     ]
    },
    {
     "name": "stdout",
     "output_type": "stream",
     "text": [
      "\n"
     ]
    },
    {
     "name": "stdout",
     "output_type": "stream",
     "text": [
      "03:40:33 Loading loss sample..."
     ]
    },
    {
     "name": "stdout",
     "output_type": "stream",
     "text": [
      "\n"
     ]
    },
    {
     "name": "stdout",
     "output_type": "stream",
     "text": [
      "         Converting units..."
     ]
    },
    {
     "name": "stdout",
     "output_type": "stream",
     "text": [
      "\n"
     ]
    },
    {
     "name": "stdout",
     "output_type": "stream",
     "text": [
      "         Unit conversion successful."
     ]
    },
    {
     "name": "stdout",
     "output_type": "stream",
     "text": [
      "\n"
     ]
    },
    {
     "name": "stdout",
     "output_type": "stream",
     "text": [
      "         Loss sample successfully loaded."
     ]
    },
    {
     "name": "stdout",
     "output_type": "stream",
     "text": [
      "\n"
     ]
    },
    {
     "name": "stdout",
     "output_type": "stream",
     "text": [
      "         Preparing data ..."
     ]
    },
    {
     "name": "stdout",
     "output_type": "stream",
     "text": [
      "\n"
     ]
    },
    {
     "name": "stdout",
     "output_type": "stream",
     "text": [
      "         Converting units..."
     ]
    },
    {
     "name": "stdout",
     "output_type": "stream",
     "text": [
      "\n"
     ]
    },
    {
     "name": "stdout",
     "output_type": "stream",
     "text": [
      "         Unit conversion successful."
     ]
    },
    {
     "name": "stdout",
     "output_type": "stream",
     "text": [
      "\n"
     ]
    }
   ],
   "source": [
    "#\n",
    "# Losses\n",
    "#\n",
    "\n",
    "# Create the loss map\n",
    "loss_map = pd.DataFrame(\n",
    "    ['replacement', 'replacement'],\n",
    "    columns=['Repair'],\n",
    "    index=['collapse', 'irreparable'],\n",
    ")\n",
    "\n",
    "# Load the loss model\n",
    "asmnt.loss.decision_variables = ('Cost', 'Time')\n",
    "asmnt.loss.add_loss_map(loss_map, loss_map_policy='fill')\n",
    "with pytest.warns(PelicunWarning):\n",
    "    asmnt.loss.load_model_parameters(\n",
    "        [\n",
    "            consequences,  # type: ignore\n",
    "            loss_functions,  # type: ignore\n",
    "            'PelicunDefault/loss_repair_DB_FEMA_P58_2nd.csv',\n",
    "        ]\n",
    "    )\n",
    "\n",
    "# Perform the calculation\n",
    "asmnt.loss.calculate()\n",
    "\n",
    "# Test load sample, save sample\n",
    "with pytest.warns(PelicunWarning):\n",
    "    asmnt.loss.save_sample(f'{temp_dir}/sample.csv')\n",
    "    asmnt.loss.load_sample(f'{temp_dir}/sample.csv')\n",
    "\n",
    "#\n",
    "# Loss sample aggregation\n",
    "#\n",
    "\n",
    "# Get the aggregated losses\n",
    "with pytest.warns(PelicunWarning):\n",
    "    agg_df = asmnt.loss.aggregate_losses()"
   ]
  },
  {
   "cell_type": "code",
   "execution_count": 13,
   "id": "9760919c",
   "metadata": {
    "execution": {
     "iopub.execute_input": "2025-08-08T03:40:33.243399Z",
     "iopub.status.busy": "2025-08-08T03:40:33.243178Z",
     "iopub.status.idle": "2025-08-08T03:40:33.246185Z",
     "shell.execute_reply": "2025-08-08T03:40:33.245614Z"
    },
    "nbsphinx": "hidden"
   },
   "outputs": [],
   "source": [
    "assert agg_df is not None"
   ]
  }
 ],
 "metadata": {
  "jupytext": {
   "cell_metadata_filter": "nbsphinx,-all",
   "main_language": "python",
   "notebook_metadata_filter": "-all",
   "text_representation": {
    "extension": ".py",
    "format_name": "percent"
   }
  },
  "language_info": {
   "codemirror_mode": {
    "name": "ipython",
    "version": 3
   },
   "file_extension": ".py",
   "mimetype": "text/x-python",
   "name": "python",
   "nbconvert_exporter": "python",
   "pygments_lexer": "ipython3",
   "version": "3.10.18"
  }
 },
 "nbformat": 4,
 "nbformat_minor": 5
}
