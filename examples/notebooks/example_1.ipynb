{
 "cells": [
  {
   "cell_type": "markdown",
   "id": "b837be53",
   "metadata": {},
   "source": [
    "# Example 1: Simple loss function."
   ]
  },
  {
   "cell_type": "markdown",
   "id": "d2c407c1",
   "metadata": {
    "cell_marker": "\"\"\""
   },
   "source": [
    "In this example, a single loss function is defined as a 1:1 mapping of the input EDP.\n",
    "This means that the resulting loss distribution will be the same as the EDP distribution, allowing us to test and confirm that this is what happens."
   ]
  },
  {
   "cell_type": "code",
   "execution_count": 1,
   "id": "db668197",
   "metadata": {
    "execution": {
     "iopub.execute_input": "2025-02-04T20:15:52.344557Z",
     "iopub.status.busy": "2025-02-04T20:15:52.344359Z",
     "iopub.status.idle": "2025-02-04T20:15:52.985977Z",
     "shell.execute_reply": "2025-02-04T20:15:52.985207Z"
    }
   },
   "outputs": [],
   "source": [
    "from __future__ import annotations\n",
    "\n",
    "import numpy as np\n",
    "import pandas as pd\n",
    "\n",
    "from pelicun import assessment, file_io"
   ]
  },
  {
   "cell_type": "code",
   "execution_count": 2,
   "id": "593531f5",
   "metadata": {
    "execution": {
     "iopub.execute_input": "2025-02-04T20:15:52.988582Z",
     "iopub.status.busy": "2025-02-04T20:15:52.988148Z",
     "iopub.status.idle": "2025-02-04T20:15:52.991382Z",
     "shell.execute_reply": "2025-02-04T20:15:52.990702Z"
    }
   },
   "outputs": [],
   "source": [
    "sample_size = 100000"
   ]
  },
  {
   "cell_type": "code",
   "execution_count": 3,
   "id": "ef9aa44d",
   "metadata": {
    "execution": {
     "iopub.execute_input": "2025-02-04T20:15:52.993346Z",
     "iopub.status.busy": "2025-02-04T20:15:52.992993Z",
     "iopub.status.idle": "2025-02-04T20:15:52.997431Z",
     "shell.execute_reply": "2025-02-04T20:15:52.996797Z"
    }
   },
   "outputs": [],
   "source": [
    "# initialize a pelicun assessment\n",
    "asmnt = assessment.Assessment({'PrintLog': False, 'Seed': 42})"
   ]
  },
  {
   "cell_type": "code",
   "execution_count": 4,
   "id": "b9d65e45",
   "metadata": {
    "execution": {
     "iopub.execute_input": "2025-02-04T20:15:52.999694Z",
     "iopub.status.busy": "2025-02-04T20:15:52.999242Z",
     "iopub.status.idle": "2025-02-04T20:15:53.081344Z",
     "shell.execute_reply": "2025-02-04T20:15:53.080588Z"
    }
   },
   "outputs": [],
   "source": [
    "\n",
    "#\n",
    "# Demands\n",
    "#\n",
    "\n",
    "demands = pd.DataFrame(\n",
    "    {\n",
    "        'Theta_0': [0.50],\n",
    "        'Theta_1': [0.90],\n",
    "        'Family': ['lognormal'],\n",
    "        'Units': ['mps2'],\n",
    "    },\n",
    "    index=pd.MultiIndex.from_tuples(\n",
    "        [\n",
    "            ('PFA', '0', '1'),\n",
    "        ],\n",
    "    ),\n",
    ")\n",
    "\n",
    "asmnt.demand.load_model({'marginals': demands})\n",
    "\n",
    "asmnt.demand.generate_sample({'SampleSize': sample_size})\n",
    "\n",
    "#\n",
    "# Asset\n",
    "#\n",
    "\n",
    "asmnt.stories = 1\n",
    "\n",
    "cmp_marginals = pd.read_csv('example_1/CMP_marginals.csv', index_col=0)\n",
    "cmp_marginals['Blocks'] = cmp_marginals['Blocks']\n",
    "asmnt.asset.load_cmp_model({'marginals': cmp_marginals})\n",
    "\n",
    "asmnt.asset.generate_cmp_sample(sample_size)"
   ]
  },
  {
   "cell_type": "code",
   "execution_count": 5,
   "id": "b05eff13",
   "metadata": {
    "execution": {
     "iopub.execute_input": "2025-02-04T20:15:53.083717Z",
     "iopub.status.busy": "2025-02-04T20:15:53.083505Z",
     "iopub.status.idle": "2025-02-04T20:15:53.086527Z",
     "shell.execute_reply": "2025-02-04T20:15:53.085874Z"
    }
   },
   "outputs": [],
   "source": [
    "#\n",
    "# Damage\n",
    "#\n",
    "\n",
    "# nothing to do here."
   ]
  },
  {
   "cell_type": "code",
   "execution_count": 6,
   "id": "a6e0edc4",
   "metadata": {
    "execution": {
     "iopub.execute_input": "2025-02-04T20:15:53.088482Z",
     "iopub.status.busy": "2025-02-04T20:15:53.088280Z",
     "iopub.status.idle": "2025-02-04T20:15:53.099163Z",
     "shell.execute_reply": "2025-02-04T20:15:53.098460Z"
    },
    "lines_to_next_cell": 0
   },
   "outputs": [],
   "source": [
    "#\n",
    "# Losses\n",
    "#\n",
    "\n",
    "asmnt.loss.decision_variables = ('Cost',)\n",
    "\n",
    "loss_map = pd.DataFrame(['cmp.A'], columns=['Repair'], index=['cmp.A'])\n",
    "asmnt.loss.add_loss_map(loss_map)\n",
    "\n",
    "loss_functions = file_io.load_data(\n",
    "    'example_1/loss_functions.csv',\n",
    "    reindex=False,\n",
    "    unit_conversion_factors=asmnt.unit_conversion_factors,\n",
    ")"
   ]
  },
  {
   "cell_type": "code",
   "execution_count": 7,
   "id": "4c3794e1",
   "metadata": {
    "execution": {
     "iopub.execute_input": "2025-02-04T20:15:53.101545Z",
     "iopub.status.busy": "2025-02-04T20:15:53.100957Z",
     "iopub.status.idle": "2025-02-04T20:15:53.104361Z",
     "shell.execute_reply": "2025-02-04T20:15:53.103683Z"
    },
    "lines_to_next_cell": 0,
    "nbsphinx": "hidden"
   },
   "outputs": [],
   "source": [
    "assert isinstance(loss_functions, pd.DataFrame)"
   ]
  },
  {
   "cell_type": "code",
   "execution_count": 8,
   "id": "6dc12265",
   "metadata": {
    "execution": {
     "iopub.execute_input": "2025-02-04T20:15:53.106400Z",
     "iopub.status.busy": "2025-02-04T20:15:53.106042Z",
     "iopub.status.idle": "2025-02-04T20:15:53.203498Z",
     "shell.execute_reply": "2025-02-04T20:15:53.202784Z"
    },
    "lines_to_next_cell": 0
   },
   "outputs": [],
   "source": [
    "asmnt.loss.load_model_parameters([loss_functions])\n",
    "asmnt.loss.calculate()\n",
    "\n",
    "loss, _ = asmnt.loss.aggregate_losses(future=True)"
   ]
  },
  {
   "cell_type": "code",
   "execution_count": 9,
   "id": "fa451dc8",
   "metadata": {
    "execution": {
     "iopub.execute_input": "2025-02-04T20:15:53.206115Z",
     "iopub.status.busy": "2025-02-04T20:15:53.205685Z",
     "iopub.status.idle": "2025-02-04T20:15:53.209190Z",
     "shell.execute_reply": "2025-02-04T20:15:53.208570Z"
    },
    "nbsphinx": "hidden"
   },
   "outputs": [],
   "source": [
    "assert isinstance(loss, pd.DataFrame)\n",
    "\n",
    "loss_vals = loss['repair_cost'].to_numpy()"
   ]
  },
  {
   "cell_type": "code",
   "execution_count": 10,
   "id": "ada124e7",
   "metadata": {
    "execution": {
     "iopub.execute_input": "2025-02-04T20:15:53.211175Z",
     "iopub.status.busy": "2025-02-04T20:15:53.210816Z",
     "iopub.status.idle": "2025-02-04T20:15:53.216382Z",
     "shell.execute_reply": "2025-02-04T20:15:53.215766Z"
    },
    "nbsphinx": "hidden"
   },
   "outputs": [],
   "source": [
    "# sample median should be close to 0.05\n",
    "assert np.allclose(np.median(loss_vals), 0.05, atol=1e-2)\n",
    "# dispersion should be close to 0.9\n",
    "assert np.allclose(np.log(loss_vals).std(), 0.90, atol=1e-2)"
   ]
  }
 ],
 "metadata": {
  "jupytext": {
   "cell_metadata_filter": "nbsphinx,-all",
   "main_language": "python",
   "notebook_metadata_filter": "-all",
   "text_representation": {
    "extension": ".py",
    "format_name": "percent"
   }
  },
  "language_info": {
   "codemirror_mode": {
    "name": "ipython",
    "version": 3
   },
   "file_extension": ".py",
   "mimetype": "text/x-python",
   "name": "python",
   "nbconvert_exporter": "python",
   "pygments_lexer": "ipython3",
   "version": "3.10.16"
  }
 },
 "nbformat": 4,
 "nbformat_minor": 5
}
