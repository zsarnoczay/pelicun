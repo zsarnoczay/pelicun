{
 "cells": [
  {
   "cell_type": "markdown",
   "id": "594e1b00",
   "metadata": {},
   "source": [
    "# Example 1: Simple loss function."
   ]
  },
  {
   "cell_type": "markdown",
   "id": "926bdec3",
   "metadata": {
    "cell_marker": "\"\"\""
   },
   "source": [
    "In this example, a single loss function is defined as a 1:1 mapping of the input EDP.\n",
    "This means that the resulting loss distribution will be the same as the EDP distribution, allowing us to test and confirm that this is what happens."
   ]
  },
  {
   "cell_type": "code",
   "execution_count": 1,
   "id": "ea0d520f",
   "metadata": {
    "execution": {
     "iopub.execute_input": "2025-02-25T06:29:36.895855Z",
     "iopub.status.busy": "2025-02-25T06:29:36.895655Z",
     "iopub.status.idle": "2025-02-25T06:29:37.517756Z",
     "shell.execute_reply": "2025-02-25T06:29:37.517173Z"
    }
   },
   "outputs": [],
   "source": [
    "from __future__ import annotations\n",
    "\n",
    "import numpy as np\n",
    "import pandas as pd\n",
    "\n",
    "from pelicun import assessment, file_io"
   ]
  },
  {
   "cell_type": "code",
   "execution_count": 2,
   "id": "bae8d0f0",
   "metadata": {
    "execution": {
     "iopub.execute_input": "2025-02-25T06:29:37.520250Z",
     "iopub.status.busy": "2025-02-25T06:29:37.519755Z",
     "iopub.status.idle": "2025-02-25T06:29:37.522883Z",
     "shell.execute_reply": "2025-02-25T06:29:37.522355Z"
    }
   },
   "outputs": [],
   "source": [
    "sample_size = 100000"
   ]
  },
  {
   "cell_type": "code",
   "execution_count": 3,
   "id": "87ecd9ce",
   "metadata": {
    "execution": {
     "iopub.execute_input": "2025-02-25T06:29:37.524721Z",
     "iopub.status.busy": "2025-02-25T06:29:37.524522Z",
     "iopub.status.idle": "2025-02-25T06:29:37.528889Z",
     "shell.execute_reply": "2025-02-25T06:29:37.528397Z"
    }
   },
   "outputs": [],
   "source": [
    "# initialize a pelicun assessment\n",
    "asmnt = assessment.Assessment({'PrintLog': False, 'Seed': 42})"
   ]
  },
  {
   "cell_type": "code",
   "execution_count": 4,
   "id": "11352ab1",
   "metadata": {
    "execution": {
     "iopub.execute_input": "2025-02-25T06:29:37.530828Z",
     "iopub.status.busy": "2025-02-25T06:29:37.530377Z",
     "iopub.status.idle": "2025-02-25T06:29:37.607699Z",
     "shell.execute_reply": "2025-02-25T06:29:37.606946Z"
    }
   },
   "outputs": [],
   "source": [
    "\n",
    "#\n",
    "# Demands\n",
    "#\n",
    "\n",
    "demands = pd.DataFrame(\n",
    "    {\n",
    "        'Theta_0': [0.50],\n",
    "        'Theta_1': [0.90],\n",
    "        'Family': ['lognormal'],\n",
    "        'Units': ['mps2'],\n",
    "    },\n",
    "    index=pd.MultiIndex.from_tuples(\n",
    "        [\n",
    "            ('PFA', '0', '1'),\n",
    "        ],\n",
    "    ),\n",
    ")\n",
    "\n",
    "asmnt.demand.load_model({'marginals': demands})\n",
    "\n",
    "asmnt.demand.generate_sample({'SampleSize': sample_size})\n",
    "\n",
    "#\n",
    "# Asset\n",
    "#\n",
    "\n",
    "asmnt.stories = 1\n",
    "\n",
    "cmp_marginals = pd.read_csv('example_1/CMP_marginals.csv', index_col=0)\n",
    "cmp_marginals['Blocks'] = cmp_marginals['Blocks']\n",
    "asmnt.asset.load_cmp_model({'marginals': cmp_marginals})\n",
    "\n",
    "asmnt.asset.generate_cmp_sample(sample_size)"
   ]
  },
  {
   "cell_type": "code",
   "execution_count": 5,
   "id": "aa75e832",
   "metadata": {
    "execution": {
     "iopub.execute_input": "2025-02-25T06:29:37.610178Z",
     "iopub.status.busy": "2025-02-25T06:29:37.609686Z",
     "iopub.status.idle": "2025-02-25T06:29:37.612739Z",
     "shell.execute_reply": "2025-02-25T06:29:37.612071Z"
    }
   },
   "outputs": [],
   "source": [
    "#\n",
    "# Damage\n",
    "#\n",
    "\n",
    "# nothing to do here."
   ]
  },
  {
   "cell_type": "code",
   "execution_count": 6,
   "id": "64efa7e5",
   "metadata": {
    "execution": {
     "iopub.execute_input": "2025-02-25T06:29:37.614690Z",
     "iopub.status.busy": "2025-02-25T06:29:37.614342Z",
     "iopub.status.idle": "2025-02-25T06:29:37.624972Z",
     "shell.execute_reply": "2025-02-25T06:29:37.624428Z"
    },
    "lines_to_next_cell": 0
   },
   "outputs": [],
   "source": [
    "#\n",
    "# Losses\n",
    "#\n",
    "\n",
    "asmnt.loss.decision_variables = ('Cost',)\n",
    "\n",
    "loss_map = pd.DataFrame(['cmp.A'], columns=['Repair'], index=['cmp.A'])\n",
    "asmnt.loss.add_loss_map(loss_map)\n",
    "\n",
    "loss_functions = file_io.load_data(\n",
    "    'example_1/loss_functions.csv',\n",
    "    reindex=False,\n",
    "    unit_conversion_factors=asmnt.unit_conversion_factors,\n",
    ")"
   ]
  },
  {
   "cell_type": "code",
   "execution_count": 7,
   "id": "33afae89",
   "metadata": {
    "execution": {
     "iopub.execute_input": "2025-02-25T06:29:37.627004Z",
     "iopub.status.busy": "2025-02-25T06:29:37.626624Z",
     "iopub.status.idle": "2025-02-25T06:29:37.629728Z",
     "shell.execute_reply": "2025-02-25T06:29:37.629186Z"
    },
    "lines_to_next_cell": 0,
    "nbsphinx": "hidden"
   },
   "outputs": [],
   "source": [
    "assert isinstance(loss_functions, pd.DataFrame)"
   ]
  },
  {
   "cell_type": "code",
   "execution_count": 8,
   "id": "ab75c19d",
   "metadata": {
    "execution": {
     "iopub.execute_input": "2025-02-25T06:29:37.631708Z",
     "iopub.status.busy": "2025-02-25T06:29:37.631340Z",
     "iopub.status.idle": "2025-02-25T06:29:37.726102Z",
     "shell.execute_reply": "2025-02-25T06:29:37.725372Z"
    },
    "lines_to_next_cell": 0
   },
   "outputs": [],
   "source": [
    "asmnt.loss.load_model_parameters([loss_functions])\n",
    "asmnt.loss.calculate()\n",
    "\n",
    "loss, _ = asmnt.loss.aggregate_losses(future=True)"
   ]
  },
  {
   "cell_type": "code",
   "execution_count": 9,
   "id": "840b5518",
   "metadata": {
    "execution": {
     "iopub.execute_input": "2025-02-25T06:29:37.728778Z",
     "iopub.status.busy": "2025-02-25T06:29:37.728368Z",
     "iopub.status.idle": "2025-02-25T06:29:37.731822Z",
     "shell.execute_reply": "2025-02-25T06:29:37.731279Z"
    },
    "nbsphinx": "hidden"
   },
   "outputs": [],
   "source": [
    "assert isinstance(loss, pd.DataFrame)\n",
    "\n",
    "loss_vals = loss['repair_cost'].to_numpy()"
   ]
  },
  {
   "cell_type": "code",
   "execution_count": 10,
   "id": "f26a965c",
   "metadata": {
    "execution": {
     "iopub.execute_input": "2025-02-25T06:29:37.733829Z",
     "iopub.status.busy": "2025-02-25T06:29:37.733446Z",
     "iopub.status.idle": "2025-02-25T06:29:37.738678Z",
     "shell.execute_reply": "2025-02-25T06:29:37.738172Z"
    },
    "nbsphinx": "hidden"
   },
   "outputs": [],
   "source": [
    "# sample median should be close to 0.05\n",
    "assert np.allclose(np.median(loss_vals), 0.05, atol=1e-2)\n",
    "# dispersion should be close to 0.9\n",
    "assert np.allclose(np.log(loss_vals).std(), 0.90, atol=1e-2)"
   ]
  }
 ],
 "metadata": {
  "jupytext": {
   "cell_metadata_filter": "nbsphinx,-all",
   "main_language": "python",
   "notebook_metadata_filter": "-all",
   "text_representation": {
    "extension": ".py",
    "format_name": "percent"
   }
  },
  "language_info": {
   "codemirror_mode": {
    "name": "ipython",
    "version": 3
   },
   "file_extension": ".py",
   "mimetype": "text/x-python",
   "name": "python",
   "nbconvert_exporter": "python",
   "pygments_lexer": "ipython3",
   "version": "3.10.16"
  }
 },
 "nbformat": 4,
 "nbformat_minor": 5
}
