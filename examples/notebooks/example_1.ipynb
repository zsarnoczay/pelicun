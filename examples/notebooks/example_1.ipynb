{
 "cells": [
  {
   "cell_type": "markdown",
   "id": "86218e89",
   "metadata": {},
   "source": [
    "# Example 1: Simple loss function."
   ]
  },
  {
   "cell_type": "markdown",
   "id": "12cee28c",
   "metadata": {
    "cell_marker": "\"\"\""
   },
   "source": [
    "In this example, a single loss function is defined as a 1:1 mapping of the input EDP.\n",
    "This means that the resulting loss distribution will be the same as the EDP distribution, allowing us to test and confirm that this is what happens."
   ]
  },
  {
   "cell_type": "code",
   "execution_count": 1,
   "id": "97072fd2",
   "metadata": {
    "execution": {
     "iopub.execute_input": "2025-05-17T03:48:49.296830Z",
     "iopub.status.busy": "2025-05-17T03:48:49.296638Z",
     "iopub.status.idle": "2025-05-17T03:48:49.949254Z",
     "shell.execute_reply": "2025-05-17T03:48:49.948679Z"
    }
   },
   "outputs": [],
   "source": [
    "from __future__ import annotations\n",
    "\n",
    "import numpy as np\n",
    "import pandas as pd\n",
    "\n",
    "from pelicun import assessment, file_io"
   ]
  },
  {
   "cell_type": "code",
   "execution_count": 2,
   "id": "4d120445",
   "metadata": {
    "execution": {
     "iopub.execute_input": "2025-05-17T03:48:49.951683Z",
     "iopub.status.busy": "2025-05-17T03:48:49.951423Z",
     "iopub.status.idle": "2025-05-17T03:48:49.954272Z",
     "shell.execute_reply": "2025-05-17T03:48:49.953740Z"
    }
   },
   "outputs": [],
   "source": [
    "sample_size = 100000"
   ]
  },
  {
   "cell_type": "code",
   "execution_count": 3,
   "id": "13ad6800",
   "metadata": {
    "execution": {
     "iopub.execute_input": "2025-05-17T03:48:49.956161Z",
     "iopub.status.busy": "2025-05-17T03:48:49.955964Z",
     "iopub.status.idle": "2025-05-17T03:48:49.960251Z",
     "shell.execute_reply": "2025-05-17T03:48:49.959601Z"
    }
   },
   "outputs": [],
   "source": [
    "# initialize a pelicun assessment\n",
    "asmnt = assessment.Assessment({'PrintLog': False, 'Seed': 42})"
   ]
  },
  {
   "cell_type": "code",
   "execution_count": 4,
   "id": "5fd7848c",
   "metadata": {
    "execution": {
     "iopub.execute_input": "2025-05-17T03:48:49.962022Z",
     "iopub.status.busy": "2025-05-17T03:48:49.961831Z",
     "iopub.status.idle": "2025-05-17T03:48:50.014158Z",
     "shell.execute_reply": "2025-05-17T03:48:50.013631Z"
    }
   },
   "outputs": [],
   "source": [
    "\n",
    "#\n",
    "# Demands\n",
    "#\n",
    "\n",
    "demands = pd.DataFrame(\n",
    "    {\n",
    "        'Theta_0': [0.50],\n",
    "        'Theta_1': [0.90],\n",
    "        'Family': ['lognormal'],\n",
    "        'Units': ['mps2'],\n",
    "    },\n",
    "    index=pd.MultiIndex.from_tuples(\n",
    "        [\n",
    "            ('PFA', '0', '1'),\n",
    "        ],\n",
    "    ),\n",
    ")\n",
    "\n",
    "asmnt.demand.load_model({'marginals': demands})\n",
    "\n",
    "asmnt.demand.generate_sample({'SampleSize': sample_size})\n",
    "\n",
    "#\n",
    "# Asset\n",
    "#\n",
    "\n",
    "asmnt.stories = 1\n",
    "\n",
    "cmp_marginals = pd.read_csv('example_1/CMP_marginals.csv', index_col=0)\n",
    "cmp_marginals['Blocks'] = cmp_marginals['Blocks']\n",
    "asmnt.asset.load_cmp_model({'marginals': cmp_marginals})\n",
    "\n",
    "asmnt.asset.generate_cmp_sample(sample_size)"
   ]
  },
  {
   "cell_type": "code",
   "execution_count": 5,
   "id": "f51df30e",
   "metadata": {
    "execution": {
     "iopub.execute_input": "2025-05-17T03:48:50.016016Z",
     "iopub.status.busy": "2025-05-17T03:48:50.015820Z",
     "iopub.status.idle": "2025-05-17T03:48:50.018506Z",
     "shell.execute_reply": "2025-05-17T03:48:50.017980Z"
    }
   },
   "outputs": [],
   "source": [
    "#\n",
    "# Damage\n",
    "#\n",
    "\n",
    "# nothing to do here."
   ]
  },
  {
   "cell_type": "code",
   "execution_count": 6,
   "id": "d55a18b8",
   "metadata": {
    "execution": {
     "iopub.execute_input": "2025-05-17T03:48:50.020358Z",
     "iopub.status.busy": "2025-05-17T03:48:50.020148Z",
     "iopub.status.idle": "2025-05-17T03:48:50.030414Z",
     "shell.execute_reply": "2025-05-17T03:48:50.029865Z"
    },
    "lines_to_next_cell": 0
   },
   "outputs": [],
   "source": [
    "#\n",
    "# Losses\n",
    "#\n",
    "\n",
    "asmnt.loss.decision_variables = ('Cost',)\n",
    "\n",
    "loss_map = pd.DataFrame(['cmp.A'], columns=['Repair'], index=['cmp.A'])\n",
    "asmnt.loss.add_loss_map(loss_map)\n",
    "\n",
    "loss_functions = file_io.load_data(\n",
    "    'example_1/loss_functions.csv',\n",
    "    reindex=False,\n",
    "    unit_conversion_factors=asmnt.unit_conversion_factors,\n",
    ")"
   ]
  },
  {
   "cell_type": "code",
   "execution_count": 7,
   "id": "e4f92d77",
   "metadata": {
    "execution": {
     "iopub.execute_input": "2025-05-17T03:48:50.032309Z",
     "iopub.status.busy": "2025-05-17T03:48:50.031941Z",
     "iopub.status.idle": "2025-05-17T03:48:50.034965Z",
     "shell.execute_reply": "2025-05-17T03:48:50.034429Z"
    },
    "lines_to_next_cell": 0,
    "nbsphinx": "hidden"
   },
   "outputs": [],
   "source": [
    "assert isinstance(loss_functions, pd.DataFrame)"
   ]
  },
  {
   "cell_type": "code",
   "execution_count": 8,
   "id": "c361b14f",
   "metadata": {
    "execution": {
     "iopub.execute_input": "2025-05-17T03:48:50.036870Z",
     "iopub.status.busy": "2025-05-17T03:48:50.036504Z",
     "iopub.status.idle": "2025-05-17T03:48:50.125671Z",
     "shell.execute_reply": "2025-05-17T03:48:50.125099Z"
    },
    "lines_to_next_cell": 0
   },
   "outputs": [],
   "source": [
    "asmnt.loss.load_model_parameters([loss_functions])\n",
    "asmnt.loss.calculate()\n",
    "\n",
    "loss, _ = asmnt.loss.aggregate_losses(future=True)"
   ]
  },
  {
   "cell_type": "code",
   "execution_count": 9,
   "id": "c8a3458e",
   "metadata": {
    "execution": {
     "iopub.execute_input": "2025-05-17T03:48:50.127846Z",
     "iopub.status.busy": "2025-05-17T03:48:50.127457Z",
     "iopub.status.idle": "2025-05-17T03:48:50.130749Z",
     "shell.execute_reply": "2025-05-17T03:48:50.130187Z"
    },
    "nbsphinx": "hidden"
   },
   "outputs": [],
   "source": [
    "assert isinstance(loss, pd.DataFrame)\n",
    "\n",
    "loss_vals = loss['repair_cost'].to_numpy()"
   ]
  },
  {
   "cell_type": "code",
   "execution_count": 10,
   "id": "2f3fad1b",
   "metadata": {
    "execution": {
     "iopub.execute_input": "2025-05-17T03:48:50.132568Z",
     "iopub.status.busy": "2025-05-17T03:48:50.132177Z",
     "iopub.status.idle": "2025-05-17T03:48:50.137208Z",
     "shell.execute_reply": "2025-05-17T03:48:50.136712Z"
    },
    "nbsphinx": "hidden"
   },
   "outputs": [],
   "source": [
    "# sample median should be close to 0.05\n",
    "assert np.allclose(np.median(loss_vals), 0.05, atol=1e-2)\n",
    "# dispersion should be close to 0.9\n",
    "assert np.allclose(np.log(loss_vals).std(), 0.90, atol=1e-2)"
   ]
  }
 ],
 "metadata": {
  "jupytext": {
   "cell_metadata_filter": "nbsphinx,-all",
   "main_language": "python",
   "notebook_metadata_filter": "-all",
   "text_representation": {
    "extension": ".py",
    "format_name": "percent"
   }
  },
  "language_info": {
   "codemirror_mode": {
    "name": "ipython",
    "version": 3
   },
   "file_extension": ".py",
   "mimetype": "text/x-python",
   "name": "python",
   "nbconvert_exporter": "python",
   "pygments_lexer": "ipython3",
   "version": "3.10.17"
  }
 },
 "nbformat": 4,
 "nbformat_minor": 5
}
