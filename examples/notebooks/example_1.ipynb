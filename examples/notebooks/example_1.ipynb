{
 "cells": [
  {
   "cell_type": "markdown",
   "id": "7d80fac3",
   "metadata": {},
   "source": [
    "# Example 1: Simple loss function."
   ]
  },
  {
   "cell_type": "markdown",
   "id": "0c0c7e61",
   "metadata": {
    "cell_marker": "\"\"\""
   },
   "source": [
    "In this example, a single loss function is defined as a 1:1 mapping of the input EDP.\n",
    "This means that the resulting loss distribution will be the same as the EDP distribution, allowing us to test and confirm that this is what happens."
   ]
  },
  {
   "cell_type": "code",
   "execution_count": 1,
   "id": "60552685",
   "metadata": {
    "execution": {
     "iopub.execute_input": "2025-01-30T22:03:38.045174Z",
     "iopub.status.busy": "2025-01-30T22:03:38.044982Z",
     "iopub.status.idle": "2025-01-30T22:03:38.643005Z",
     "shell.execute_reply": "2025-01-30T22:03:38.642408Z"
    }
   },
   "outputs": [],
   "source": [
    "from __future__ import annotations\n",
    "\n",
    "import numpy as np\n",
    "import pandas as pd\n",
    "\n",
    "from pelicun import assessment, file_io"
   ]
  },
  {
   "cell_type": "code",
   "execution_count": 2,
   "id": "6db20cff",
   "metadata": {
    "execution": {
     "iopub.execute_input": "2025-01-30T22:03:38.645518Z",
     "iopub.status.busy": "2025-01-30T22:03:38.645062Z",
     "iopub.status.idle": "2025-01-30T22:03:38.647920Z",
     "shell.execute_reply": "2025-01-30T22:03:38.647420Z"
    }
   },
   "outputs": [],
   "source": [
    "sample_size = 100000"
   ]
  },
  {
   "cell_type": "code",
   "execution_count": 3,
   "id": "979a0cdd",
   "metadata": {
    "execution": {
     "iopub.execute_input": "2025-01-30T22:03:38.649606Z",
     "iopub.status.busy": "2025-01-30T22:03:38.649429Z",
     "iopub.status.idle": "2025-01-30T22:03:38.653716Z",
     "shell.execute_reply": "2025-01-30T22:03:38.653249Z"
    }
   },
   "outputs": [],
   "source": [
    "# initialize a pelicun assessment\n",
    "asmnt = assessment.Assessment({'PrintLog': False, 'Seed': 42})"
   ]
  },
  {
   "cell_type": "code",
   "execution_count": 4,
   "id": "ee456254",
   "metadata": {
    "execution": {
     "iopub.execute_input": "2025-01-30T22:03:38.655826Z",
     "iopub.status.busy": "2025-01-30T22:03:38.655467Z",
     "iopub.status.idle": "2025-01-30T22:03:38.741663Z",
     "shell.execute_reply": "2025-01-30T22:03:38.741061Z"
    }
   },
   "outputs": [],
   "source": [
    "\n",
    "#\n",
    "# Demands\n",
    "#\n",
    "\n",
    "demands = pd.DataFrame(\n",
    "    {\n",
    "        'Theta_0': [0.50],\n",
    "        'Theta_1': [0.90],\n",
    "        'Family': ['lognormal'],\n",
    "        'Units': ['mps2'],\n",
    "    },\n",
    "    index=pd.MultiIndex.from_tuples(\n",
    "        [\n",
    "            ('PFA', '0', '1'),\n",
    "        ],\n",
    "    ),\n",
    ")\n",
    "\n",
    "asmnt.demand.load_model({'marginals': demands})\n",
    "\n",
    "asmnt.demand.generate_sample({'SampleSize': sample_size})\n",
    "\n",
    "#\n",
    "# Asset\n",
    "#\n",
    "\n",
    "asmnt.stories = 1\n",
    "\n",
    "cmp_marginals = pd.read_csv('example_1/CMP_marginals.csv', index_col=0)\n",
    "cmp_marginals['Blocks'] = cmp_marginals['Blocks']\n",
    "asmnt.asset.load_cmp_model({'marginals': cmp_marginals})\n",
    "\n",
    "asmnt.asset.generate_cmp_sample(sample_size)"
   ]
  },
  {
   "cell_type": "code",
   "execution_count": 5,
   "id": "76552d9d",
   "metadata": {
    "execution": {
     "iopub.execute_input": "2025-01-30T22:03:38.743634Z",
     "iopub.status.busy": "2025-01-30T22:03:38.743324Z",
     "iopub.status.idle": "2025-01-30T22:03:38.745965Z",
     "shell.execute_reply": "2025-01-30T22:03:38.745426Z"
    }
   },
   "outputs": [],
   "source": [
    "#\n",
    "# Damage\n",
    "#\n",
    "\n",
    "# nothing to do here."
   ]
  },
  {
   "cell_type": "code",
   "execution_count": 6,
   "id": "37d4bd80",
   "metadata": {
    "execution": {
     "iopub.execute_input": "2025-01-30T22:03:38.747812Z",
     "iopub.status.busy": "2025-01-30T22:03:38.747622Z",
     "iopub.status.idle": "2025-01-30T22:03:38.757834Z",
     "shell.execute_reply": "2025-01-30T22:03:38.757324Z"
    },
    "lines_to_next_cell": 0
   },
   "outputs": [],
   "source": [
    "#\n",
    "# Losses\n",
    "#\n",
    "\n",
    "asmnt.loss.decision_variables = ('Cost',)\n",
    "\n",
    "loss_map = pd.DataFrame(['cmp.A'], columns=['Repair'], index=['cmp.A'])\n",
    "asmnt.loss.add_loss_map(loss_map)\n",
    "\n",
    "loss_functions = file_io.load_data(\n",
    "    'example_1/loss_functions.csv',\n",
    "    reindex=False,\n",
    "    unit_conversion_factors=asmnt.unit_conversion_factors,\n",
    ")"
   ]
  },
  {
   "cell_type": "code",
   "execution_count": 7,
   "id": "8e814d51",
   "metadata": {
    "execution": {
     "iopub.execute_input": "2025-01-30T22:03:38.759832Z",
     "iopub.status.busy": "2025-01-30T22:03:38.759486Z",
     "iopub.status.idle": "2025-01-30T22:03:38.762613Z",
     "shell.execute_reply": "2025-01-30T22:03:38.761968Z"
    },
    "lines_to_next_cell": 0,
    "nbsphinx": "hidden"
   },
   "outputs": [],
   "source": [
    "assert isinstance(loss_functions, pd.DataFrame)"
   ]
  },
  {
   "cell_type": "code",
   "execution_count": 8,
   "id": "cd4783c6",
   "metadata": {
    "execution": {
     "iopub.execute_input": "2025-01-30T22:03:38.764378Z",
     "iopub.status.busy": "2025-01-30T22:03:38.764188Z",
     "iopub.status.idle": "2025-01-30T22:03:38.856813Z",
     "shell.execute_reply": "2025-01-30T22:03:38.856107Z"
    },
    "lines_to_next_cell": 0
   },
   "outputs": [],
   "source": [
    "asmnt.loss.load_model_parameters([loss_functions])\n",
    "asmnt.loss.calculate()\n",
    "\n",
    "loss, _ = asmnt.loss.aggregate_losses(future=True)"
   ]
  },
  {
   "cell_type": "code",
   "execution_count": 9,
   "id": "a0ef3d65",
   "metadata": {
    "execution": {
     "iopub.execute_input": "2025-01-30T22:03:38.859207Z",
     "iopub.status.busy": "2025-01-30T22:03:38.858826Z",
     "iopub.status.idle": "2025-01-30T22:03:38.862129Z",
     "shell.execute_reply": "2025-01-30T22:03:38.861491Z"
    },
    "nbsphinx": "hidden"
   },
   "outputs": [],
   "source": [
    "assert isinstance(loss, pd.DataFrame)\n",
    "\n",
    "loss_vals = loss['repair_cost'].to_numpy()"
   ]
  },
  {
   "cell_type": "code",
   "execution_count": 10,
   "id": "24551cfa",
   "metadata": {
    "execution": {
     "iopub.execute_input": "2025-01-30T22:03:38.864024Z",
     "iopub.status.busy": "2025-01-30T22:03:38.863817Z",
     "iopub.status.idle": "2025-01-30T22:03:38.869135Z",
     "shell.execute_reply": "2025-01-30T22:03:38.868597Z"
    },
    "nbsphinx": "hidden"
   },
   "outputs": [],
   "source": [
    "# sample median should be close to 0.05\n",
    "assert np.allclose(np.median(loss_vals), 0.05, atol=1e-2)\n",
    "# dispersion should be close to 0.9\n",
    "assert np.allclose(np.log(loss_vals).std(), 0.90, atol=1e-2)"
   ]
  }
 ],
 "metadata": {
  "jupytext": {
   "cell_metadata_filter": "nbsphinx,-all",
   "main_language": "python",
   "notebook_metadata_filter": "-all",
   "text_representation": {
    "extension": ".py",
    "format_name": "percent"
   }
  },
  "language_info": {
   "codemirror_mode": {
    "name": "ipython",
    "version": 3
   },
   "file_extension": ".py",
   "mimetype": "text/x-python",
   "name": "python",
   "nbconvert_exporter": "python",
   "pygments_lexer": "ipython3",
   "version": "3.10.16"
  }
 },
 "nbformat": 4,
 "nbformat_minor": 5
}
