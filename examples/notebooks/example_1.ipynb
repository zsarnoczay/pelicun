{
 "cells": [
  {
   "cell_type": "markdown",
   "id": "67efbeff",
   "metadata": {},
   "source": [
    "# Example 1: Simple loss function."
   ]
  },
  {
   "cell_type": "markdown",
   "id": "7846b754",
   "metadata": {
    "cell_marker": "\"\"\""
   },
   "source": [
    "In this example, a single loss function is defined as a 1:1 mapping of the input EDP.\n",
    "This means that the resulting loss distribution will be the same as the EDP distribution, allowing us to test and confirm that this is what happens."
   ]
  },
  {
   "cell_type": "code",
   "execution_count": 1,
   "id": "0f714876",
   "metadata": {
    "execution": {
     "iopub.execute_input": "2025-02-04T20:25:59.916803Z",
     "iopub.status.busy": "2025-02-04T20:25:59.916613Z",
     "iopub.status.idle": "2025-02-04T20:26:00.520223Z",
     "shell.execute_reply": "2025-02-04T20:26:00.519489Z"
    }
   },
   "outputs": [],
   "source": [
    "from __future__ import annotations\n",
    "\n",
    "import numpy as np\n",
    "import pandas as pd\n",
    "\n",
    "from pelicun import assessment, file_io"
   ]
  },
  {
   "cell_type": "code",
   "execution_count": 2,
   "id": "3b727076",
   "metadata": {
    "execution": {
     "iopub.execute_input": "2025-02-04T20:26:00.522675Z",
     "iopub.status.busy": "2025-02-04T20:26:00.522407Z",
     "iopub.status.idle": "2025-02-04T20:26:00.525569Z",
     "shell.execute_reply": "2025-02-04T20:26:00.525007Z"
    }
   },
   "outputs": [],
   "source": [
    "sample_size = 100000"
   ]
  },
  {
   "cell_type": "code",
   "execution_count": 3,
   "id": "991d2133",
   "metadata": {
    "execution": {
     "iopub.execute_input": "2025-02-04T20:26:00.527346Z",
     "iopub.status.busy": "2025-02-04T20:26:00.527147Z",
     "iopub.status.idle": "2025-02-04T20:26:00.531449Z",
     "shell.execute_reply": "2025-02-04T20:26:00.530924Z"
    }
   },
   "outputs": [],
   "source": [
    "# initialize a pelicun assessment\n",
    "asmnt = assessment.Assessment({'PrintLog': False, 'Seed': 42})"
   ]
  },
  {
   "cell_type": "code",
   "execution_count": 4,
   "id": "649b51ec",
   "metadata": {
    "execution": {
     "iopub.execute_input": "2025-02-04T20:26:00.533538Z",
     "iopub.status.busy": "2025-02-04T20:26:00.533175Z",
     "iopub.status.idle": "2025-02-04T20:26:00.585410Z",
     "shell.execute_reply": "2025-02-04T20:26:00.584831Z"
    }
   },
   "outputs": [],
   "source": [
    "\n",
    "#\n",
    "# Demands\n",
    "#\n",
    "\n",
    "demands = pd.DataFrame(\n",
    "    {\n",
    "        'Theta_0': [0.50],\n",
    "        'Theta_1': [0.90],\n",
    "        'Family': ['lognormal'],\n",
    "        'Units': ['mps2'],\n",
    "    },\n",
    "    index=pd.MultiIndex.from_tuples(\n",
    "        [\n",
    "            ('PFA', '0', '1'),\n",
    "        ],\n",
    "    ),\n",
    ")\n",
    "\n",
    "asmnt.demand.load_model({'marginals': demands})\n",
    "\n",
    "asmnt.demand.generate_sample({'SampleSize': sample_size})\n",
    "\n",
    "#\n",
    "# Asset\n",
    "#\n",
    "\n",
    "asmnt.stories = 1\n",
    "\n",
    "cmp_marginals = pd.read_csv('example_1/CMP_marginals.csv', index_col=0)\n",
    "cmp_marginals['Blocks'] = cmp_marginals['Blocks']\n",
    "asmnt.asset.load_cmp_model({'marginals': cmp_marginals})\n",
    "\n",
    "asmnt.asset.generate_cmp_sample(sample_size)"
   ]
  },
  {
   "cell_type": "code",
   "execution_count": 5,
   "id": "b40ab3ef",
   "metadata": {
    "execution": {
     "iopub.execute_input": "2025-02-04T20:26:00.587344Z",
     "iopub.status.busy": "2025-02-04T20:26:00.587155Z",
     "iopub.status.idle": "2025-02-04T20:26:00.589769Z",
     "shell.execute_reply": "2025-02-04T20:26:00.589257Z"
    }
   },
   "outputs": [],
   "source": [
    "#\n",
    "# Damage\n",
    "#\n",
    "\n",
    "# nothing to do here."
   ]
  },
  {
   "cell_type": "code",
   "execution_count": 6,
   "id": "ea20283a",
   "metadata": {
    "execution": {
     "iopub.execute_input": "2025-02-04T20:26:00.591477Z",
     "iopub.status.busy": "2025-02-04T20:26:00.591298Z",
     "iopub.status.idle": "2025-02-04T20:26:00.601438Z",
     "shell.execute_reply": "2025-02-04T20:26:00.600777Z"
    },
    "lines_to_next_cell": 0
   },
   "outputs": [],
   "source": [
    "#\n",
    "# Losses\n",
    "#\n",
    "\n",
    "asmnt.loss.decision_variables = ('Cost',)\n",
    "\n",
    "loss_map = pd.DataFrame(['cmp.A'], columns=['Repair'], index=['cmp.A'])\n",
    "asmnt.loss.add_loss_map(loss_map)\n",
    "\n",
    "loss_functions = file_io.load_data(\n",
    "    'example_1/loss_functions.csv',\n",
    "    reindex=False,\n",
    "    unit_conversion_factors=asmnt.unit_conversion_factors,\n",
    ")"
   ]
  },
  {
   "cell_type": "code",
   "execution_count": 7,
   "id": "61d6aed4",
   "metadata": {
    "execution": {
     "iopub.execute_input": "2025-02-04T20:26:00.603387Z",
     "iopub.status.busy": "2025-02-04T20:26:00.603183Z",
     "iopub.status.idle": "2025-02-04T20:26:00.606058Z",
     "shell.execute_reply": "2025-02-04T20:26:00.605557Z"
    },
    "lines_to_next_cell": 0,
    "nbsphinx": "hidden"
   },
   "outputs": [],
   "source": [
    "assert isinstance(loss_functions, pd.DataFrame)"
   ]
  },
  {
   "cell_type": "code",
   "execution_count": 8,
   "id": "6b759425",
   "metadata": {
    "execution": {
     "iopub.execute_input": "2025-02-04T20:26:00.608139Z",
     "iopub.status.busy": "2025-02-04T20:26:00.607684Z",
     "iopub.status.idle": "2025-02-04T20:26:00.701970Z",
     "shell.execute_reply": "2025-02-04T20:26:00.701403Z"
    },
    "lines_to_next_cell": 0
   },
   "outputs": [],
   "source": [
    "asmnt.loss.load_model_parameters([loss_functions])\n",
    "asmnt.loss.calculate()\n",
    "\n",
    "loss, _ = asmnt.loss.aggregate_losses(future=True)"
   ]
  },
  {
   "cell_type": "code",
   "execution_count": 9,
   "id": "3384298c",
   "metadata": {
    "execution": {
     "iopub.execute_input": "2025-02-04T20:26:00.704279Z",
     "iopub.status.busy": "2025-02-04T20:26:00.704026Z",
     "iopub.status.idle": "2025-02-04T20:26:00.707261Z",
     "shell.execute_reply": "2025-02-04T20:26:00.706721Z"
    },
    "nbsphinx": "hidden"
   },
   "outputs": [],
   "source": [
    "assert isinstance(loss, pd.DataFrame)\n",
    "\n",
    "loss_vals = loss['repair_cost'].to_numpy()"
   ]
  },
  {
   "cell_type": "code",
   "execution_count": 10,
   "id": "e12e13d8",
   "metadata": {
    "execution": {
     "iopub.execute_input": "2025-02-04T20:26:00.709198Z",
     "iopub.status.busy": "2025-02-04T20:26:00.708799Z",
     "iopub.status.idle": "2025-02-04T20:26:00.714067Z",
     "shell.execute_reply": "2025-02-04T20:26:00.713571Z"
    },
    "nbsphinx": "hidden"
   },
   "outputs": [],
   "source": [
    "# sample median should be close to 0.05\n",
    "assert np.allclose(np.median(loss_vals), 0.05, atol=1e-2)\n",
    "# dispersion should be close to 0.9\n",
    "assert np.allclose(np.log(loss_vals).std(), 0.90, atol=1e-2)"
   ]
  }
 ],
 "metadata": {
  "jupytext": {
   "cell_metadata_filter": "nbsphinx,-all",
   "main_language": "python",
   "notebook_metadata_filter": "-all",
   "text_representation": {
    "extension": ".py",
    "format_name": "percent"
   }
  },
  "language_info": {
   "codemirror_mode": {
    "name": "ipython",
    "version": 3
   },
   "file_extension": ".py",
   "mimetype": "text/x-python",
   "name": "python",
   "nbconvert_exporter": "python",
   "pygments_lexer": "ipython3",
   "version": "3.10.16"
  }
 },
 "nbformat": 4,
 "nbformat_minor": 5
}
