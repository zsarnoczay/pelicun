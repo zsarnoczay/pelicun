{
 "cells": [
  {
   "cell_type": "markdown",
   "id": "1d6127ee",
   "metadata": {},
   "source": [
    "# Example 1: Simple loss function."
   ]
  },
  {
   "cell_type": "markdown",
   "id": "7a9fd9a3",
   "metadata": {
    "cell_marker": "\"\"\""
   },
   "source": [
    "In this example, a single loss function is defined as a 1:1 mapping of the input EDP.\n",
    "This means that the resulting loss distribution will be the same as the EDP distribution, allowing us to test and confirm that this is what happens."
   ]
  },
  {
   "cell_type": "code",
   "execution_count": 1,
   "id": "ed0ed5ac",
   "metadata": {
    "execution": {
     "iopub.execute_input": "2025-02-04T21:38:42.634883Z",
     "iopub.status.busy": "2025-02-04T21:38:42.634687Z",
     "iopub.status.idle": "2025-02-04T21:38:43.244921Z",
     "shell.execute_reply": "2025-02-04T21:38:43.244150Z"
    }
   },
   "outputs": [],
   "source": [
    "from __future__ import annotations\n",
    "\n",
    "import numpy as np\n",
    "import pandas as pd\n",
    "\n",
    "from pelicun import assessment, file_io"
   ]
  },
  {
   "cell_type": "code",
   "execution_count": 2,
   "id": "17c73169",
   "metadata": {
    "execution": {
     "iopub.execute_input": "2025-02-04T21:38:43.247378Z",
     "iopub.status.busy": "2025-02-04T21:38:43.247102Z",
     "iopub.status.idle": "2025-02-04T21:38:43.250215Z",
     "shell.execute_reply": "2025-02-04T21:38:43.249672Z"
    }
   },
   "outputs": [],
   "source": [
    "sample_size = 100000"
   ]
  },
  {
   "cell_type": "code",
   "execution_count": 3,
   "id": "404cee38",
   "metadata": {
    "execution": {
     "iopub.execute_input": "2025-02-04T21:38:43.251973Z",
     "iopub.status.busy": "2025-02-04T21:38:43.251786Z",
     "iopub.status.idle": "2025-02-04T21:38:43.255995Z",
     "shell.execute_reply": "2025-02-04T21:38:43.255484Z"
    }
   },
   "outputs": [],
   "source": [
    "# initialize a pelicun assessment\n",
    "asmnt = assessment.Assessment({'PrintLog': False, 'Seed': 42})"
   ]
  },
  {
   "cell_type": "code",
   "execution_count": 4,
   "id": "ccdbc389",
   "metadata": {
    "execution": {
     "iopub.execute_input": "2025-02-04T21:38:43.258046Z",
     "iopub.status.busy": "2025-02-04T21:38:43.257680Z",
     "iopub.status.idle": "2025-02-04T21:38:43.318864Z",
     "shell.execute_reply": "2025-02-04T21:38:43.318301Z"
    }
   },
   "outputs": [],
   "source": [
    "\n",
    "#\n",
    "# Demands\n",
    "#\n",
    "\n",
    "demands = pd.DataFrame(\n",
    "    {\n",
    "        'Theta_0': [0.50],\n",
    "        'Theta_1': [0.90],\n",
    "        'Family': ['lognormal'],\n",
    "        'Units': ['mps2'],\n",
    "    },\n",
    "    index=pd.MultiIndex.from_tuples(\n",
    "        [\n",
    "            ('PFA', '0', '1'),\n",
    "        ],\n",
    "    ),\n",
    ")\n",
    "\n",
    "asmnt.demand.load_model({'marginals': demands})\n",
    "\n",
    "asmnt.demand.generate_sample({'SampleSize': sample_size})\n",
    "\n",
    "#\n",
    "# Asset\n",
    "#\n",
    "\n",
    "asmnt.stories = 1\n",
    "\n",
    "cmp_marginals = pd.read_csv('example_1/CMP_marginals.csv', index_col=0)\n",
    "cmp_marginals['Blocks'] = cmp_marginals['Blocks']\n",
    "asmnt.asset.load_cmp_model({'marginals': cmp_marginals})\n",
    "\n",
    "asmnt.asset.generate_cmp_sample(sample_size)"
   ]
  },
  {
   "cell_type": "code",
   "execution_count": 5,
   "id": "5d1abe92",
   "metadata": {
    "execution": {
     "iopub.execute_input": "2025-02-04T21:38:43.321222Z",
     "iopub.status.busy": "2025-02-04T21:38:43.320811Z",
     "iopub.status.idle": "2025-02-04T21:38:43.323683Z",
     "shell.execute_reply": "2025-02-04T21:38:43.323134Z"
    }
   },
   "outputs": [],
   "source": [
    "#\n",
    "# Damage\n",
    "#\n",
    "\n",
    "# nothing to do here."
   ]
  },
  {
   "cell_type": "code",
   "execution_count": 6,
   "id": "fa425973",
   "metadata": {
    "execution": {
     "iopub.execute_input": "2025-02-04T21:38:43.325564Z",
     "iopub.status.busy": "2025-02-04T21:38:43.325206Z",
     "iopub.status.idle": "2025-02-04T21:38:43.335507Z",
     "shell.execute_reply": "2025-02-04T21:38:43.334979Z"
    },
    "lines_to_next_cell": 0
   },
   "outputs": [],
   "source": [
    "#\n",
    "# Losses\n",
    "#\n",
    "\n",
    "asmnt.loss.decision_variables = ('Cost',)\n",
    "\n",
    "loss_map = pd.DataFrame(['cmp.A'], columns=['Repair'], index=['cmp.A'])\n",
    "asmnt.loss.add_loss_map(loss_map)\n",
    "\n",
    "loss_functions = file_io.load_data(\n",
    "    'example_1/loss_functions.csv',\n",
    "    reindex=False,\n",
    "    unit_conversion_factors=asmnt.unit_conversion_factors,\n",
    ")"
   ]
  },
  {
   "cell_type": "code",
   "execution_count": 7,
   "id": "07e14c50",
   "metadata": {
    "execution": {
     "iopub.execute_input": "2025-02-04T21:38:43.337428Z",
     "iopub.status.busy": "2025-02-04T21:38:43.337037Z",
     "iopub.status.idle": "2025-02-04T21:38:43.339883Z",
     "shell.execute_reply": "2025-02-04T21:38:43.339378Z"
    },
    "lines_to_next_cell": 0,
    "nbsphinx": "hidden"
   },
   "outputs": [],
   "source": [
    "assert isinstance(loss_functions, pd.DataFrame)"
   ]
  },
  {
   "cell_type": "code",
   "execution_count": 8,
   "id": "0a8878de",
   "metadata": {
    "execution": {
     "iopub.execute_input": "2025-02-04T21:38:43.341788Z",
     "iopub.status.busy": "2025-02-04T21:38:43.341419Z",
     "iopub.status.idle": "2025-02-04T21:38:43.433715Z",
     "shell.execute_reply": "2025-02-04T21:38:43.432972Z"
    },
    "lines_to_next_cell": 0
   },
   "outputs": [],
   "source": [
    "asmnt.loss.load_model_parameters([loss_functions])\n",
    "asmnt.loss.calculate()\n",
    "\n",
    "loss, _ = asmnt.loss.aggregate_losses(future=True)"
   ]
  },
  {
   "cell_type": "code",
   "execution_count": 9,
   "id": "2c6d47f3",
   "metadata": {
    "execution": {
     "iopub.execute_input": "2025-02-04T21:38:43.436248Z",
     "iopub.status.busy": "2025-02-04T21:38:43.435841Z",
     "iopub.status.idle": "2025-02-04T21:38:43.439242Z",
     "shell.execute_reply": "2025-02-04T21:38:43.438583Z"
    },
    "nbsphinx": "hidden"
   },
   "outputs": [],
   "source": [
    "assert isinstance(loss, pd.DataFrame)\n",
    "\n",
    "loss_vals = loss['repair_cost'].to_numpy()"
   ]
  },
  {
   "cell_type": "code",
   "execution_count": 10,
   "id": "8a3cd7c9",
   "metadata": {
    "execution": {
     "iopub.execute_input": "2025-02-04T21:38:43.441449Z",
     "iopub.status.busy": "2025-02-04T21:38:43.441071Z",
     "iopub.status.idle": "2025-02-04T21:38:43.446202Z",
     "shell.execute_reply": "2025-02-04T21:38:43.445669Z"
    },
    "nbsphinx": "hidden"
   },
   "outputs": [],
   "source": [
    "# sample median should be close to 0.05\n",
    "assert np.allclose(np.median(loss_vals), 0.05, atol=1e-2)\n",
    "# dispersion should be close to 0.9\n",
    "assert np.allclose(np.log(loss_vals).std(), 0.90, atol=1e-2)"
   ]
  }
 ],
 "metadata": {
  "jupytext": {
   "cell_metadata_filter": "nbsphinx,-all",
   "main_language": "python",
   "notebook_metadata_filter": "-all",
   "text_representation": {
    "extension": ".py",
    "format_name": "percent"
   }
  },
  "language_info": {
   "codemirror_mode": {
    "name": "ipython",
    "version": 3
   },
   "file_extension": ".py",
   "mimetype": "text/x-python",
   "name": "python",
   "nbconvert_exporter": "python",
   "pygments_lexer": "ipython3",
   "version": "3.10.16"
  }
 },
 "nbformat": 4,
 "nbformat_minor": 5
}
