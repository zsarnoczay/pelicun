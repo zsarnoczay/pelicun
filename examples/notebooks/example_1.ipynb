{
 "cells": [
  {
   "cell_type": "markdown",
   "id": "82670933",
   "metadata": {},
   "source": [
    "# Example 1: Simple loss function."
   ]
  },
  {
   "cell_type": "markdown",
   "id": "6961bd79",
   "metadata": {
    "cell_marker": "\"\"\""
   },
   "source": [
    "In this example, a single loss function is defined as a 1:1 mapping of the input EDP.\n",
    "This means that the resulting loss distribution will be the same as the EDP distribution, allowing us to test and confirm that this is what happens."
   ]
  },
  {
   "cell_type": "code",
   "execution_count": 1,
   "id": "81a9f6de",
   "metadata": {
    "execution": {
     "iopub.execute_input": "2025-02-04T21:22:20.317978Z",
     "iopub.status.busy": "2025-02-04T21:22:20.317476Z",
     "iopub.status.idle": "2025-02-04T21:22:20.945201Z",
     "shell.execute_reply": "2025-02-04T21:22:20.944465Z"
    }
   },
   "outputs": [],
   "source": [
    "from __future__ import annotations\n",
    "\n",
    "import numpy as np\n",
    "import pandas as pd\n",
    "\n",
    "from pelicun import assessment, file_io"
   ]
  },
  {
   "cell_type": "code",
   "execution_count": 2,
   "id": "5fc05de4",
   "metadata": {
    "execution": {
     "iopub.execute_input": "2025-02-04T21:22:20.947993Z",
     "iopub.status.busy": "2025-02-04T21:22:20.947513Z",
     "iopub.status.idle": "2025-02-04T21:22:20.951607Z",
     "shell.execute_reply": "2025-02-04T21:22:20.950566Z"
    }
   },
   "outputs": [],
   "source": [
    "sample_size = 100000"
   ]
  },
  {
   "cell_type": "code",
   "execution_count": 3,
   "id": "86377c8f",
   "metadata": {
    "execution": {
     "iopub.execute_input": "2025-02-04T21:22:20.953785Z",
     "iopub.status.busy": "2025-02-04T21:22:20.953384Z",
     "iopub.status.idle": "2025-02-04T21:22:20.958989Z",
     "shell.execute_reply": "2025-02-04T21:22:20.958328Z"
    }
   },
   "outputs": [],
   "source": [
    "# initialize a pelicun assessment\n",
    "asmnt = assessment.Assessment({'PrintLog': False, 'Seed': 42})"
   ]
  },
  {
   "cell_type": "code",
   "execution_count": 4,
   "id": "55c26044",
   "metadata": {
    "execution": {
     "iopub.execute_input": "2025-02-04T21:22:20.961417Z",
     "iopub.status.busy": "2025-02-04T21:22:20.960942Z",
     "iopub.status.idle": "2025-02-04T21:22:21.041234Z",
     "shell.execute_reply": "2025-02-04T21:22:21.040622Z"
    }
   },
   "outputs": [],
   "source": [
    "\n",
    "#\n",
    "# Demands\n",
    "#\n",
    "\n",
    "demands = pd.DataFrame(\n",
    "    {\n",
    "        'Theta_0': [0.50],\n",
    "        'Theta_1': [0.90],\n",
    "        'Family': ['lognormal'],\n",
    "        'Units': ['mps2'],\n",
    "    },\n",
    "    index=pd.MultiIndex.from_tuples(\n",
    "        [\n",
    "            ('PFA', '0', '1'),\n",
    "        ],\n",
    "    ),\n",
    ")\n",
    "\n",
    "asmnt.demand.load_model({'marginals': demands})\n",
    "\n",
    "asmnt.demand.generate_sample({'SampleSize': sample_size})\n",
    "\n",
    "#\n",
    "# Asset\n",
    "#\n",
    "\n",
    "asmnt.stories = 1\n",
    "\n",
    "cmp_marginals = pd.read_csv('example_1/CMP_marginals.csv', index_col=0)\n",
    "cmp_marginals['Blocks'] = cmp_marginals['Blocks']\n",
    "asmnt.asset.load_cmp_model({'marginals': cmp_marginals})\n",
    "\n",
    "asmnt.asset.generate_cmp_sample(sample_size)"
   ]
  },
  {
   "cell_type": "code",
   "execution_count": 5,
   "id": "981b1b7c",
   "metadata": {
    "execution": {
     "iopub.execute_input": "2025-02-04T21:22:21.043809Z",
     "iopub.status.busy": "2025-02-04T21:22:21.043360Z",
     "iopub.status.idle": "2025-02-04T21:22:21.046397Z",
     "shell.execute_reply": "2025-02-04T21:22:21.045811Z"
    }
   },
   "outputs": [],
   "source": [
    "#\n",
    "# Damage\n",
    "#\n",
    "\n",
    "# nothing to do here."
   ]
  },
  {
   "cell_type": "code",
   "execution_count": 6,
   "id": "8de81c7a",
   "metadata": {
    "execution": {
     "iopub.execute_input": "2025-02-04T21:22:21.048787Z",
     "iopub.status.busy": "2025-02-04T21:22:21.048282Z",
     "iopub.status.idle": "2025-02-04T21:22:21.059325Z",
     "shell.execute_reply": "2025-02-04T21:22:21.058676Z"
    },
    "lines_to_next_cell": 0
   },
   "outputs": [],
   "source": [
    "#\n",
    "# Losses\n",
    "#\n",
    "\n",
    "asmnt.loss.decision_variables = ('Cost',)\n",
    "\n",
    "loss_map = pd.DataFrame(['cmp.A'], columns=['Repair'], index=['cmp.A'])\n",
    "asmnt.loss.add_loss_map(loss_map)\n",
    "\n",
    "loss_functions = file_io.load_data(\n",
    "    'example_1/loss_functions.csv',\n",
    "    reindex=False,\n",
    "    unit_conversion_factors=asmnt.unit_conversion_factors,\n",
    ")"
   ]
  },
  {
   "cell_type": "code",
   "execution_count": 7,
   "id": "fc5b373c",
   "metadata": {
    "execution": {
     "iopub.execute_input": "2025-02-04T21:22:21.061964Z",
     "iopub.status.busy": "2025-02-04T21:22:21.061392Z",
     "iopub.status.idle": "2025-02-04T21:22:21.065121Z",
     "shell.execute_reply": "2025-02-04T21:22:21.064349Z"
    },
    "lines_to_next_cell": 0,
    "nbsphinx": "hidden"
   },
   "outputs": [],
   "source": [
    "assert isinstance(loss_functions, pd.DataFrame)"
   ]
  },
  {
   "cell_type": "code",
   "execution_count": 8,
   "id": "a4cdcfaf",
   "metadata": {
    "execution": {
     "iopub.execute_input": "2025-02-04T21:22:21.067653Z",
     "iopub.status.busy": "2025-02-04T21:22:21.067130Z",
     "iopub.status.idle": "2025-02-04T21:22:21.179472Z",
     "shell.execute_reply": "2025-02-04T21:22:21.178882Z"
    },
    "lines_to_next_cell": 0
   },
   "outputs": [],
   "source": [
    "asmnt.loss.load_model_parameters([loss_functions])\n",
    "asmnt.loss.calculate()\n",
    "\n",
    "loss, _ = asmnt.loss.aggregate_losses(future=True)"
   ]
  },
  {
   "cell_type": "code",
   "execution_count": 9,
   "id": "dadd135f",
   "metadata": {
    "execution": {
     "iopub.execute_input": "2025-02-04T21:22:21.181879Z",
     "iopub.status.busy": "2025-02-04T21:22:21.181676Z",
     "iopub.status.idle": "2025-02-04T21:22:21.184967Z",
     "shell.execute_reply": "2025-02-04T21:22:21.184415Z"
    },
    "nbsphinx": "hidden"
   },
   "outputs": [],
   "source": [
    "assert isinstance(loss, pd.DataFrame)\n",
    "\n",
    "loss_vals = loss['repair_cost'].to_numpy()"
   ]
  },
  {
   "cell_type": "code",
   "execution_count": 10,
   "id": "720a429f",
   "metadata": {
    "execution": {
     "iopub.execute_input": "2025-02-04T21:22:21.187162Z",
     "iopub.status.busy": "2025-02-04T21:22:21.186732Z",
     "iopub.status.idle": "2025-02-04T21:22:21.192219Z",
     "shell.execute_reply": "2025-02-04T21:22:21.191569Z"
    },
    "nbsphinx": "hidden"
   },
   "outputs": [],
   "source": [
    "# sample median should be close to 0.05\n",
    "assert np.allclose(np.median(loss_vals), 0.05, atol=1e-2)\n",
    "# dispersion should be close to 0.9\n",
    "assert np.allclose(np.log(loss_vals).std(), 0.90, atol=1e-2)"
   ]
  }
 ],
 "metadata": {
  "jupytext": {
   "cell_metadata_filter": "nbsphinx,-all",
   "main_language": "python",
   "notebook_metadata_filter": "-all",
   "text_representation": {
    "extension": ".py",
    "format_name": "percent"
   }
  },
  "language_info": {
   "codemirror_mode": {
    "name": "ipython",
    "version": 3
   },
   "file_extension": ".py",
   "mimetype": "text/x-python",
   "name": "python",
   "nbconvert_exporter": "python",
   "pygments_lexer": "ipython3",
   "version": "3.10.16"
  }
 },
 "nbformat": 4,
 "nbformat_minor": 5
}
