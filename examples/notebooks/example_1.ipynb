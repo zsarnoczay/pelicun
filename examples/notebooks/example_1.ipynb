{
 "cells": [
  {
   "cell_type": "markdown",
   "id": "cf27cb89",
   "metadata": {},
   "source": [
    "# Example 1: Simple loss function."
   ]
  },
  {
   "cell_type": "markdown",
   "id": "b65e0785",
   "metadata": {
    "cell_marker": "\"\"\""
   },
   "source": [
    "In this example, a single loss function is defined as a 1:1 mapping of the input EDP.\n",
    "This means that the resulting loss distribution will be the same as the EDP distribution, allowing us to test and confirm that this is what happens."
   ]
  },
  {
   "cell_type": "code",
   "execution_count": 1,
   "id": "f5bf481a",
   "metadata": {
    "execution": {
     "iopub.execute_input": "2025-08-08T03:40:25.475230Z",
     "iopub.status.busy": "2025-08-08T03:40:25.475021Z",
     "iopub.status.idle": "2025-08-08T03:40:26.130304Z",
     "shell.execute_reply": "2025-08-08T03:40:26.129579Z"
    }
   },
   "outputs": [],
   "source": [
    "from __future__ import annotations\n",
    "\n",
    "import numpy as np\n",
    "import pandas as pd\n",
    "\n",
    "from pelicun import assessment, file_io"
   ]
  },
  {
   "cell_type": "code",
   "execution_count": 2,
   "id": "8de444df",
   "metadata": {
    "execution": {
     "iopub.execute_input": "2025-08-08T03:40:26.132742Z",
     "iopub.status.busy": "2025-08-08T03:40:26.132439Z",
     "iopub.status.idle": "2025-08-08T03:40:26.135721Z",
     "shell.execute_reply": "2025-08-08T03:40:26.135086Z"
    }
   },
   "outputs": [],
   "source": [
    "sample_size = 100000"
   ]
  },
  {
   "cell_type": "code",
   "execution_count": 3,
   "id": "e9092a48",
   "metadata": {
    "execution": {
     "iopub.execute_input": "2025-08-08T03:40:26.137589Z",
     "iopub.status.busy": "2025-08-08T03:40:26.137381Z",
     "iopub.status.idle": "2025-08-08T03:40:26.142302Z",
     "shell.execute_reply": "2025-08-08T03:40:26.141579Z"
    }
   },
   "outputs": [],
   "source": [
    "# initialize a pelicun assessment\n",
    "asmnt = assessment.Assessment({'PrintLog': False, 'Seed': 42})"
   ]
  },
  {
   "cell_type": "code",
   "execution_count": 4,
   "id": "56a0814c",
   "metadata": {
    "execution": {
     "iopub.execute_input": "2025-08-08T03:40:26.144363Z",
     "iopub.status.busy": "2025-08-08T03:40:26.144163Z",
     "iopub.status.idle": "2025-08-08T03:40:26.222926Z",
     "shell.execute_reply": "2025-08-08T03:40:26.222237Z"
    }
   },
   "outputs": [],
   "source": [
    "\n",
    "#\n",
    "# Demands\n",
    "#\n",
    "\n",
    "demands = pd.DataFrame(\n",
    "    {\n",
    "        'Theta_0': [0.50],\n",
    "        'Theta_1': [0.90],\n",
    "        'Family': ['lognormal'],\n",
    "        'Units': ['mps2'],\n",
    "    },\n",
    "    index=pd.MultiIndex.from_tuples(\n",
    "        [\n",
    "            ('PFA', '0', '1'),\n",
    "        ],\n",
    "    ),\n",
    ")\n",
    "\n",
    "asmnt.demand.load_model({'marginals': demands})\n",
    "\n",
    "asmnt.demand.generate_sample({'SampleSize': sample_size})\n",
    "\n",
    "#\n",
    "# Asset\n",
    "#\n",
    "\n",
    "asmnt.stories = 1\n",
    "\n",
    "cmp_marginals = pd.read_csv('example_1/CMP_marginals.csv', index_col=0)\n",
    "cmp_marginals['Blocks'] = cmp_marginals['Blocks']\n",
    "asmnt.asset.load_cmp_model({'marginals': cmp_marginals})\n",
    "\n",
    "asmnt.asset.generate_cmp_sample(sample_size)"
   ]
  },
  {
   "cell_type": "code",
   "execution_count": 5,
   "id": "decb3b91",
   "metadata": {
    "execution": {
     "iopub.execute_input": "2025-08-08T03:40:26.225377Z",
     "iopub.status.busy": "2025-08-08T03:40:26.225111Z",
     "iopub.status.idle": "2025-08-08T03:40:26.227806Z",
     "shell.execute_reply": "2025-08-08T03:40:26.227273Z"
    }
   },
   "outputs": [],
   "source": [
    "#\n",
    "# Damage\n",
    "#\n",
    "\n",
    "# nothing to do here."
   ]
  },
  {
   "cell_type": "code",
   "execution_count": 6,
   "id": "bba4e36d",
   "metadata": {
    "execution": {
     "iopub.execute_input": "2025-08-08T03:40:26.229678Z",
     "iopub.status.busy": "2025-08-08T03:40:26.229476Z",
     "iopub.status.idle": "2025-08-08T03:40:26.240812Z",
     "shell.execute_reply": "2025-08-08T03:40:26.240101Z"
    },
    "lines_to_next_cell": 0
   },
   "outputs": [],
   "source": [
    "#\n",
    "# Losses\n",
    "#\n",
    "\n",
    "asmnt.loss.decision_variables = ('Cost',)\n",
    "\n",
    "loss_map = pd.DataFrame(['cmp.A'], columns=['Repair'], index=['cmp.A'])\n",
    "asmnt.loss.add_loss_map(loss_map)\n",
    "\n",
    "loss_functions = file_io.load_data(\n",
    "    'example_1/loss_functions.csv',\n",
    "    reindex=False,\n",
    "    unit_conversion_factors=asmnt.unit_conversion_factors,\n",
    ")"
   ]
  },
  {
   "cell_type": "code",
   "execution_count": 7,
   "id": "568c9041",
   "metadata": {
    "execution": {
     "iopub.execute_input": "2025-08-08T03:40:26.242903Z",
     "iopub.status.busy": "2025-08-08T03:40:26.242683Z",
     "iopub.status.idle": "2025-08-08T03:40:26.245813Z",
     "shell.execute_reply": "2025-08-08T03:40:26.245156Z"
    },
    "lines_to_next_cell": 0,
    "nbsphinx": "hidden"
   },
   "outputs": [],
   "source": [
    "assert isinstance(loss_functions, pd.DataFrame)"
   ]
  },
  {
   "cell_type": "code",
   "execution_count": 8,
   "id": "3cd6bed3",
   "metadata": {
    "execution": {
     "iopub.execute_input": "2025-08-08T03:40:26.247619Z",
     "iopub.status.busy": "2025-08-08T03:40:26.247425Z",
     "iopub.status.idle": "2025-08-08T03:40:26.346852Z",
     "shell.execute_reply": "2025-08-08T03:40:26.346081Z"
    },
    "lines_to_next_cell": 0
   },
   "outputs": [],
   "source": [
    "asmnt.loss.load_model_parameters([loss_functions])\n",
    "asmnt.loss.calculate()\n",
    "\n",
    "loss, _ = asmnt.loss.aggregate_losses(future=True)"
   ]
  },
  {
   "cell_type": "code",
   "execution_count": 9,
   "id": "f48e5253",
   "metadata": {
    "execution": {
     "iopub.execute_input": "2025-08-08T03:40:26.349443Z",
     "iopub.status.busy": "2025-08-08T03:40:26.349214Z",
     "iopub.status.idle": "2025-08-08T03:40:26.352656Z",
     "shell.execute_reply": "2025-08-08T03:40:26.351988Z"
    },
    "nbsphinx": "hidden"
   },
   "outputs": [],
   "source": [
    "assert isinstance(loss, pd.DataFrame)\n",
    "\n",
    "loss_vals = loss['repair_cost'].to_numpy()"
   ]
  },
  {
   "cell_type": "code",
   "execution_count": 10,
   "id": "4b61cc0b",
   "metadata": {
    "execution": {
     "iopub.execute_input": "2025-08-08T03:40:26.354700Z",
     "iopub.status.busy": "2025-08-08T03:40:26.354494Z",
     "iopub.status.idle": "2025-08-08T03:40:26.360056Z",
     "shell.execute_reply": "2025-08-08T03:40:26.359378Z"
    },
    "nbsphinx": "hidden"
   },
   "outputs": [],
   "source": [
    "# sample median should be close to 0.05\n",
    "assert np.allclose(np.median(loss_vals), 0.05, atol=1e-2)\n",
    "# dispersion should be close to 0.9\n",
    "assert np.allclose(np.log(loss_vals).std(), 0.90, atol=1e-2)"
   ]
  }
 ],
 "metadata": {
  "jupytext": {
   "cell_metadata_filter": "nbsphinx,-all",
   "main_language": "python",
   "notebook_metadata_filter": "-all",
   "text_representation": {
    "extension": ".py",
    "format_name": "percent"
   }
  },
  "language_info": {
   "codemirror_mode": {
    "name": "ipython",
    "version": 3
   },
   "file_extension": ".py",
   "mimetype": "text/x-python",
   "name": "python",
   "nbconvert_exporter": "python",
   "pygments_lexer": "ipython3",
   "version": "3.10.18"
  }
 },
 "nbformat": 4,
 "nbformat_minor": 5
}
