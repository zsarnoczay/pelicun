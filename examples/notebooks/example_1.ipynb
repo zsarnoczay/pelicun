{
 "cells": [
  {
   "cell_type": "markdown",
   "id": "e7a6b19f",
   "metadata": {},
   "source": [
    "# Example 1: Simple loss function."
   ]
  },
  {
   "cell_type": "markdown",
   "id": "c9458316",
   "metadata": {
    "cell_marker": "\"\"\""
   },
   "source": [
    "In this example, a single loss function is defined as a 1:1 mapping of the input EDP.\n",
    "This means that the resulting loss distribution will be the same as the EDP distribution, allowing us to test and confirm that this is what happens."
   ]
  },
  {
   "cell_type": "code",
   "execution_count": 1,
   "id": "f13797ac",
   "metadata": {
    "execution": {
     "iopub.execute_input": "2025-02-11T23:34:33.321020Z",
     "iopub.status.busy": "2025-02-11T23:34:33.320808Z",
     "iopub.status.idle": "2025-02-11T23:34:33.910841Z",
     "shell.execute_reply": "2025-02-11T23:34:33.910212Z"
    }
   },
   "outputs": [],
   "source": [
    "from __future__ import annotations\n",
    "\n",
    "import numpy as np\n",
    "import pandas as pd\n",
    "\n",
    "from pelicun import assessment, file_io"
   ]
  },
  {
   "cell_type": "code",
   "execution_count": 2,
   "id": "0e411f76",
   "metadata": {
    "execution": {
     "iopub.execute_input": "2025-02-11T23:34:33.913031Z",
     "iopub.status.busy": "2025-02-11T23:34:33.912762Z",
     "iopub.status.idle": "2025-02-11T23:34:33.915625Z",
     "shell.execute_reply": "2025-02-11T23:34:33.915102Z"
    }
   },
   "outputs": [],
   "source": [
    "sample_size = 100000"
   ]
  },
  {
   "cell_type": "code",
   "execution_count": 3,
   "id": "28aee8e5",
   "metadata": {
    "execution": {
     "iopub.execute_input": "2025-02-11T23:34:33.917367Z",
     "iopub.status.busy": "2025-02-11T23:34:33.917178Z",
     "iopub.status.idle": "2025-02-11T23:34:33.921080Z",
     "shell.execute_reply": "2025-02-11T23:34:33.920577Z"
    }
   },
   "outputs": [],
   "source": [
    "# initialize a pelicun assessment\n",
    "asmnt = assessment.Assessment({'PrintLog': False, 'Seed': 42})"
   ]
  },
  {
   "cell_type": "code",
   "execution_count": 4,
   "id": "1b3a2e72",
   "metadata": {
    "execution": {
     "iopub.execute_input": "2025-02-11T23:34:33.922935Z",
     "iopub.status.busy": "2025-02-11T23:34:33.922742Z",
     "iopub.status.idle": "2025-02-11T23:34:33.975144Z",
     "shell.execute_reply": "2025-02-11T23:34:33.974623Z"
    }
   },
   "outputs": [],
   "source": [
    "\n",
    "#\n",
    "# Demands\n",
    "#\n",
    "\n",
    "demands = pd.DataFrame(\n",
    "    {\n",
    "        'Theta_0': [0.50],\n",
    "        'Theta_1': [0.90],\n",
    "        'Family': ['lognormal'],\n",
    "        'Units': ['mps2'],\n",
    "    },\n",
    "    index=pd.MultiIndex.from_tuples(\n",
    "        [\n",
    "            ('PFA', '0', '1'),\n",
    "        ],\n",
    "    ),\n",
    ")\n",
    "\n",
    "asmnt.demand.load_model({'marginals': demands})\n",
    "\n",
    "asmnt.demand.generate_sample({'SampleSize': sample_size})\n",
    "\n",
    "#\n",
    "# Asset\n",
    "#\n",
    "\n",
    "asmnt.stories = 1\n",
    "\n",
    "cmp_marginals = pd.read_csv('example_1/CMP_marginals.csv', index_col=0)\n",
    "cmp_marginals['Blocks'] = cmp_marginals['Blocks']\n",
    "asmnt.asset.load_cmp_model({'marginals': cmp_marginals})\n",
    "\n",
    "asmnt.asset.generate_cmp_sample(sample_size)"
   ]
  },
  {
   "cell_type": "code",
   "execution_count": 5,
   "id": "e77736eb",
   "metadata": {
    "execution": {
     "iopub.execute_input": "2025-02-11T23:34:33.976985Z",
     "iopub.status.busy": "2025-02-11T23:34:33.976769Z",
     "iopub.status.idle": "2025-02-11T23:34:33.979399Z",
     "shell.execute_reply": "2025-02-11T23:34:33.978870Z"
    }
   },
   "outputs": [],
   "source": [
    "#\n",
    "# Damage\n",
    "#\n",
    "\n",
    "# nothing to do here."
   ]
  },
  {
   "cell_type": "code",
   "execution_count": 6,
   "id": "038d568e",
   "metadata": {
    "execution": {
     "iopub.execute_input": "2025-02-11T23:34:33.981138Z",
     "iopub.status.busy": "2025-02-11T23:34:33.980924Z",
     "iopub.status.idle": "2025-02-11T23:34:33.990747Z",
     "shell.execute_reply": "2025-02-11T23:34:33.990258Z"
    },
    "lines_to_next_cell": 0
   },
   "outputs": [],
   "source": [
    "#\n",
    "# Losses\n",
    "#\n",
    "\n",
    "asmnt.loss.decision_variables = ('Cost',)\n",
    "\n",
    "loss_map = pd.DataFrame(['cmp.A'], columns=['Repair'], index=['cmp.A'])\n",
    "asmnt.loss.add_loss_map(loss_map)\n",
    "\n",
    "loss_functions = file_io.load_data(\n",
    "    'example_1/loss_functions.csv',\n",
    "    reindex=False,\n",
    "    unit_conversion_factors=asmnt.unit_conversion_factors,\n",
    ")"
   ]
  },
  {
   "cell_type": "code",
   "execution_count": 7,
   "id": "558ba384",
   "metadata": {
    "execution": {
     "iopub.execute_input": "2025-02-11T23:34:33.992468Z",
     "iopub.status.busy": "2025-02-11T23:34:33.992281Z",
     "iopub.status.idle": "2025-02-11T23:34:33.995094Z",
     "shell.execute_reply": "2025-02-11T23:34:33.994560Z"
    },
    "lines_to_next_cell": 0,
    "nbsphinx": "hidden"
   },
   "outputs": [],
   "source": [
    "assert isinstance(loss_functions, pd.DataFrame)"
   ]
  },
  {
   "cell_type": "code",
   "execution_count": 8,
   "id": "7caf7d28",
   "metadata": {
    "execution": {
     "iopub.execute_input": "2025-02-11T23:34:33.996975Z",
     "iopub.status.busy": "2025-02-11T23:34:33.996766Z",
     "iopub.status.idle": "2025-02-11T23:34:34.089443Z",
     "shell.execute_reply": "2025-02-11T23:34:34.088832Z"
    },
    "lines_to_next_cell": 0
   },
   "outputs": [],
   "source": [
    "asmnt.loss.load_model_parameters([loss_functions])\n",
    "asmnt.loss.calculate()\n",
    "\n",
    "loss, _ = asmnt.loss.aggregate_losses(future=True)"
   ]
  },
  {
   "cell_type": "code",
   "execution_count": 9,
   "id": "4694cdb7",
   "metadata": {
    "execution": {
     "iopub.execute_input": "2025-02-11T23:34:34.091852Z",
     "iopub.status.busy": "2025-02-11T23:34:34.091490Z",
     "iopub.status.idle": "2025-02-11T23:34:34.094787Z",
     "shell.execute_reply": "2025-02-11T23:34:34.094173Z"
    },
    "nbsphinx": "hidden"
   },
   "outputs": [],
   "source": [
    "assert isinstance(loss, pd.DataFrame)\n",
    "\n",
    "loss_vals = loss['repair_cost'].to_numpy()"
   ]
  },
  {
   "cell_type": "code",
   "execution_count": 10,
   "id": "915b388e",
   "metadata": {
    "execution": {
     "iopub.execute_input": "2025-02-11T23:34:34.096520Z",
     "iopub.status.busy": "2025-02-11T23:34:34.096331Z",
     "iopub.status.idle": "2025-02-11T23:34:34.101299Z",
     "shell.execute_reply": "2025-02-11T23:34:34.100783Z"
    },
    "nbsphinx": "hidden"
   },
   "outputs": [],
   "source": [
    "# sample median should be close to 0.05\n",
    "assert np.allclose(np.median(loss_vals), 0.05, atol=1e-2)\n",
    "# dispersion should be close to 0.9\n",
    "assert np.allclose(np.log(loss_vals).std(), 0.90, atol=1e-2)"
   ]
  }
 ],
 "metadata": {
  "jupytext": {
   "cell_metadata_filter": "nbsphinx,-all",
   "main_language": "python",
   "notebook_metadata_filter": "-all",
   "text_representation": {
    "extension": ".py",
    "format_name": "percent"
   }
  },
  "language_info": {
   "codemirror_mode": {
    "name": "ipython",
    "version": 3
   },
   "file_extension": ".py",
   "mimetype": "text/x-python",
   "name": "python",
   "nbconvert_exporter": "python",
   "pygments_lexer": "ipython3",
   "version": "3.10.16"
  }
 },
 "nbformat": 4,
 "nbformat_minor": 5
}
