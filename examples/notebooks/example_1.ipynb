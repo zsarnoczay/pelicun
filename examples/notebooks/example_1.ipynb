{
 "cells": [
  {
   "cell_type": "markdown",
   "id": "b5156749",
   "metadata": {},
   "source": [
    "# Example 1: Simple loss function."
   ]
  },
  {
   "cell_type": "markdown",
   "id": "d3aa70fa",
   "metadata": {
    "cell_marker": "\"\"\""
   },
   "source": [
    "In this example, a single loss function is defined as a 1:1 mapping of the input EDP.\n",
    "This means that the resulting loss distribution will be the same as the EDP distribution, allowing us to test and confirm that this is what happens."
   ]
  },
  {
   "cell_type": "code",
   "execution_count": 1,
   "id": "6a5ca0a7",
   "metadata": {
    "execution": {
     "iopub.execute_input": "2025-02-04T23:35:10.263499Z",
     "iopub.status.busy": "2025-02-04T23:35:10.263025Z",
     "iopub.status.idle": "2025-02-04T23:35:10.857418Z",
     "shell.execute_reply": "2025-02-04T23:35:10.856826Z"
    }
   },
   "outputs": [],
   "source": [
    "from __future__ import annotations\n",
    "\n",
    "import numpy as np\n",
    "import pandas as pd\n",
    "\n",
    "from pelicun import assessment, file_io"
   ]
  },
  {
   "cell_type": "code",
   "execution_count": 2,
   "id": "cffd877f",
   "metadata": {
    "execution": {
     "iopub.execute_input": "2025-02-04T23:35:10.859929Z",
     "iopub.status.busy": "2025-02-04T23:35:10.859449Z",
     "iopub.status.idle": "2025-02-04T23:35:10.862565Z",
     "shell.execute_reply": "2025-02-04T23:35:10.862037Z"
    }
   },
   "outputs": [],
   "source": [
    "sample_size = 100000"
   ]
  },
  {
   "cell_type": "code",
   "execution_count": 3,
   "id": "b66389d7",
   "metadata": {
    "execution": {
     "iopub.execute_input": "2025-02-04T23:35:10.864361Z",
     "iopub.status.busy": "2025-02-04T23:35:10.864171Z",
     "iopub.status.idle": "2025-02-04T23:35:10.868507Z",
     "shell.execute_reply": "2025-02-04T23:35:10.868004Z"
    }
   },
   "outputs": [],
   "source": [
    "# initialize a pelicun assessment\n",
    "asmnt = assessment.Assessment({'PrintLog': False, 'Seed': 42})"
   ]
  },
  {
   "cell_type": "code",
   "execution_count": 4,
   "id": "02e1e38f",
   "metadata": {
    "execution": {
     "iopub.execute_input": "2025-02-04T23:35:10.870600Z",
     "iopub.status.busy": "2025-02-04T23:35:10.870234Z",
     "iopub.status.idle": "2025-02-04T23:35:10.922328Z",
     "shell.execute_reply": "2025-02-04T23:35:10.921769Z"
    }
   },
   "outputs": [],
   "source": [
    "\n",
    "#\n",
    "# Demands\n",
    "#\n",
    "\n",
    "demands = pd.DataFrame(\n",
    "    {\n",
    "        'Theta_0': [0.50],\n",
    "        'Theta_1': [0.90],\n",
    "        'Family': ['lognormal'],\n",
    "        'Units': ['mps2'],\n",
    "    },\n",
    "    index=pd.MultiIndex.from_tuples(\n",
    "        [\n",
    "            ('PFA', '0', '1'),\n",
    "        ],\n",
    "    ),\n",
    ")\n",
    "\n",
    "asmnt.demand.load_model({'marginals': demands})\n",
    "\n",
    "asmnt.demand.generate_sample({'SampleSize': sample_size})\n",
    "\n",
    "#\n",
    "# Asset\n",
    "#\n",
    "\n",
    "asmnt.stories = 1\n",
    "\n",
    "cmp_marginals = pd.read_csv('example_1/CMP_marginals.csv', index_col=0)\n",
    "cmp_marginals['Blocks'] = cmp_marginals['Blocks']\n",
    "asmnt.asset.load_cmp_model({'marginals': cmp_marginals})\n",
    "\n",
    "asmnt.asset.generate_cmp_sample(sample_size)"
   ]
  },
  {
   "cell_type": "code",
   "execution_count": 5,
   "id": "9b2942af",
   "metadata": {
    "execution": {
     "iopub.execute_input": "2025-02-04T23:35:10.924503Z",
     "iopub.status.busy": "2025-02-04T23:35:10.924119Z",
     "iopub.status.idle": "2025-02-04T23:35:10.926925Z",
     "shell.execute_reply": "2025-02-04T23:35:10.926389Z"
    }
   },
   "outputs": [],
   "source": [
    "#\n",
    "# Damage\n",
    "#\n",
    "\n",
    "# nothing to do here."
   ]
  },
  {
   "cell_type": "code",
   "execution_count": 6,
   "id": "568a64d4",
   "metadata": {
    "execution": {
     "iopub.execute_input": "2025-02-04T23:35:10.928602Z",
     "iopub.status.busy": "2025-02-04T23:35:10.928425Z",
     "iopub.status.idle": "2025-02-04T23:35:10.938575Z",
     "shell.execute_reply": "2025-02-04T23:35:10.938072Z"
    },
    "lines_to_next_cell": 0
   },
   "outputs": [],
   "source": [
    "#\n",
    "# Losses\n",
    "#\n",
    "\n",
    "asmnt.loss.decision_variables = ('Cost',)\n",
    "\n",
    "loss_map = pd.DataFrame(['cmp.A'], columns=['Repair'], index=['cmp.A'])\n",
    "asmnt.loss.add_loss_map(loss_map)\n",
    "\n",
    "loss_functions = file_io.load_data(\n",
    "    'example_1/loss_functions.csv',\n",
    "    reindex=False,\n",
    "    unit_conversion_factors=asmnt.unit_conversion_factors,\n",
    ")"
   ]
  },
  {
   "cell_type": "code",
   "execution_count": 7,
   "id": "55211bd8",
   "metadata": {
    "execution": {
     "iopub.execute_input": "2025-02-04T23:35:10.940546Z",
     "iopub.status.busy": "2025-02-04T23:35:10.940053Z",
     "iopub.status.idle": "2025-02-04T23:35:10.943245Z",
     "shell.execute_reply": "2025-02-04T23:35:10.942583Z"
    },
    "lines_to_next_cell": 0,
    "nbsphinx": "hidden"
   },
   "outputs": [],
   "source": [
    "assert isinstance(loss_functions, pd.DataFrame)"
   ]
  },
  {
   "cell_type": "code",
   "execution_count": 8,
   "id": "95668709",
   "metadata": {
    "execution": {
     "iopub.execute_input": "2025-02-04T23:35:10.945098Z",
     "iopub.status.busy": "2025-02-04T23:35:10.944905Z",
     "iopub.status.idle": "2025-02-04T23:35:11.039771Z",
     "shell.execute_reply": "2025-02-04T23:35:11.039166Z"
    },
    "lines_to_next_cell": 0
   },
   "outputs": [],
   "source": [
    "asmnt.loss.load_model_parameters([loss_functions])\n",
    "asmnt.loss.calculate()\n",
    "\n",
    "loss, _ = asmnt.loss.aggregate_losses(future=True)"
   ]
  },
  {
   "cell_type": "code",
   "execution_count": 9,
   "id": "acdd18ea",
   "metadata": {
    "execution": {
     "iopub.execute_input": "2025-02-04T23:35:11.041961Z",
     "iopub.status.busy": "2025-02-04T23:35:11.041766Z",
     "iopub.status.idle": "2025-02-04T23:35:11.045177Z",
     "shell.execute_reply": "2025-02-04T23:35:11.044525Z"
    },
    "nbsphinx": "hidden"
   },
   "outputs": [],
   "source": [
    "assert isinstance(loss, pd.DataFrame)\n",
    "\n",
    "loss_vals = loss['repair_cost'].to_numpy()"
   ]
  },
  {
   "cell_type": "code",
   "execution_count": 10,
   "id": "d91261b2",
   "metadata": {
    "execution": {
     "iopub.execute_input": "2025-02-04T23:35:11.046935Z",
     "iopub.status.busy": "2025-02-04T23:35:11.046752Z",
     "iopub.status.idle": "2025-02-04T23:35:11.052081Z",
     "shell.execute_reply": "2025-02-04T23:35:11.051560Z"
    },
    "nbsphinx": "hidden"
   },
   "outputs": [],
   "source": [
    "# sample median should be close to 0.05\n",
    "assert np.allclose(np.median(loss_vals), 0.05, atol=1e-2)\n",
    "# dispersion should be close to 0.9\n",
    "assert np.allclose(np.log(loss_vals).std(), 0.90, atol=1e-2)"
   ]
  }
 ],
 "metadata": {
  "jupytext": {
   "cell_metadata_filter": "nbsphinx,-all",
   "main_language": "python",
   "notebook_metadata_filter": "-all",
   "text_representation": {
    "extension": ".py",
    "format_name": "percent"
   }
  },
  "language_info": {
   "codemirror_mode": {
    "name": "ipython",
    "version": 3
   },
   "file_extension": ".py",
   "mimetype": "text/x-python",
   "name": "python",
   "nbconvert_exporter": "python",
   "pygments_lexer": "ipython3",
   "version": "3.10.16"
  }
 },
 "nbformat": 4,
 "nbformat_minor": 5
}
