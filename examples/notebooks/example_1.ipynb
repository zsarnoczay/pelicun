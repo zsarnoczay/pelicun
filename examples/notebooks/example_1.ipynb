{
 "cells": [
  {
   "cell_type": "markdown",
   "id": "2a75131f",
   "metadata": {},
   "source": [
    "# Example 1: Simple loss function."
   ]
  },
  {
   "cell_type": "markdown",
   "id": "b390f5ca",
   "metadata": {
    "cell_marker": "\"\"\""
   },
   "source": [
    "In this example, a single loss function is defined as a 1:1 mapping of the input EDP.\n",
    "This means that the resulting loss distribution will be the same as the EDP distribution, allowing us to test and confirm that this is what happens."
   ]
  },
  {
   "cell_type": "code",
   "execution_count": 1,
   "id": "ee66b5b8",
   "metadata": {
    "execution": {
     "iopub.execute_input": "2025-09-28T07:24:12.924447Z",
     "iopub.status.busy": "2025-09-28T07:24:12.924129Z",
     "iopub.status.idle": "2025-09-28T07:24:13.603124Z",
     "shell.execute_reply": "2025-09-28T07:24:13.602539Z"
    }
   },
   "outputs": [],
   "source": [
    "from __future__ import annotations\n",
    "\n",
    "import numpy as np\n",
    "import pandas as pd\n",
    "\n",
    "from pelicun import assessment, file_io"
   ]
  },
  {
   "cell_type": "code",
   "execution_count": 2,
   "id": "b4cbbccc",
   "metadata": {
    "execution": {
     "iopub.execute_input": "2025-09-28T07:24:13.605376Z",
     "iopub.status.busy": "2025-09-28T07:24:13.605097Z",
     "iopub.status.idle": "2025-09-28T07:24:13.608089Z",
     "shell.execute_reply": "2025-09-28T07:24:13.607431Z"
    }
   },
   "outputs": [],
   "source": [
    "sample_size = 100000"
   ]
  },
  {
   "cell_type": "code",
   "execution_count": 3,
   "id": "7f87af29",
   "metadata": {
    "execution": {
     "iopub.execute_input": "2025-09-28T07:24:13.609873Z",
     "iopub.status.busy": "2025-09-28T07:24:13.609683Z",
     "iopub.status.idle": "2025-09-28T07:24:13.613904Z",
     "shell.execute_reply": "2025-09-28T07:24:13.613262Z"
    }
   },
   "outputs": [],
   "source": [
    "# initialize a pelicun assessment\n",
    "asmnt = assessment.Assessment({'PrintLog': False, 'Seed': 42})"
   ]
  },
  {
   "cell_type": "code",
   "execution_count": 4,
   "id": "48baec8b",
   "metadata": {
    "execution": {
     "iopub.execute_input": "2025-09-28T07:24:13.615677Z",
     "iopub.status.busy": "2025-09-28T07:24:13.615487Z",
     "iopub.status.idle": "2025-09-28T07:24:13.701049Z",
     "shell.execute_reply": "2025-09-28T07:24:13.700318Z"
    }
   },
   "outputs": [],
   "source": [
    "\n",
    "#\n",
    "# Demands\n",
    "#\n",
    "\n",
    "demands = pd.DataFrame(\n",
    "    {\n",
    "        'Theta_0': [0.50],\n",
    "        'Theta_1': [0.90],\n",
    "        'Family': ['lognormal'],\n",
    "        'Units': ['mps2'],\n",
    "    },\n",
    "    index=pd.MultiIndex.from_tuples(\n",
    "        [\n",
    "            ('PFA', '0', '1'),\n",
    "        ],\n",
    "    ),\n",
    ")\n",
    "\n",
    "asmnt.demand.load_model({'marginals': demands})\n",
    "\n",
    "asmnt.demand.generate_sample({'SampleSize': sample_size})\n",
    "\n",
    "#\n",
    "# Asset\n",
    "#\n",
    "\n",
    "asmnt.stories = 1\n",
    "\n",
    "cmp_marginals = pd.read_csv('example_1/CMP_marginals.csv', index_col=0)\n",
    "cmp_marginals['Blocks'] = cmp_marginals['Blocks']\n",
    "asmnt.asset.load_cmp_model({'marginals': cmp_marginals})\n",
    "\n",
    "asmnt.asset.generate_cmp_sample(sample_size)"
   ]
  },
  {
   "cell_type": "code",
   "execution_count": 5,
   "id": "bc927c60",
   "metadata": {
    "execution": {
     "iopub.execute_input": "2025-09-28T07:24:13.703270Z",
     "iopub.status.busy": "2025-09-28T07:24:13.703045Z",
     "iopub.status.idle": "2025-09-28T07:24:13.705814Z",
     "shell.execute_reply": "2025-09-28T07:24:13.705261Z"
    }
   },
   "outputs": [],
   "source": [
    "#\n",
    "# Damage\n",
    "#\n",
    "\n",
    "# nothing to do here."
   ]
  },
  {
   "cell_type": "code",
   "execution_count": 6,
   "id": "bbd2cac6",
   "metadata": {
    "execution": {
     "iopub.execute_input": "2025-09-28T07:24:13.707554Z",
     "iopub.status.busy": "2025-09-28T07:24:13.707376Z",
     "iopub.status.idle": "2025-09-28T07:24:13.717530Z",
     "shell.execute_reply": "2025-09-28T07:24:13.716945Z"
    },
    "lines_to_next_cell": 0
   },
   "outputs": [],
   "source": [
    "#\n",
    "# Losses\n",
    "#\n",
    "\n",
    "asmnt.loss.decision_variables = ('Cost',)\n",
    "\n",
    "loss_map = pd.DataFrame(['cmp.A'], columns=['Repair'], index=['cmp.A'])\n",
    "asmnt.loss.add_loss_map(loss_map)\n",
    "\n",
    "loss_functions = file_io.load_data(\n",
    "    'example_1/loss_functions.csv',\n",
    "    reindex=False,\n",
    "    unit_conversion_factors=asmnt.unit_conversion_factors,\n",
    ")"
   ]
  },
  {
   "cell_type": "code",
   "execution_count": 7,
   "id": "f7bdb450",
   "metadata": {
    "execution": {
     "iopub.execute_input": "2025-09-28T07:24:13.719280Z",
     "iopub.status.busy": "2025-09-28T07:24:13.719085Z",
     "iopub.status.idle": "2025-09-28T07:24:13.721983Z",
     "shell.execute_reply": "2025-09-28T07:24:13.721422Z"
    },
    "lines_to_next_cell": 0,
    "nbsphinx": "hidden"
   },
   "outputs": [],
   "source": [
    "assert isinstance(loss_functions, pd.DataFrame)"
   ]
  },
  {
   "cell_type": "code",
   "execution_count": 8,
   "id": "a42ca9e1",
   "metadata": {
    "execution": {
     "iopub.execute_input": "2025-09-28T07:24:13.723753Z",
     "iopub.status.busy": "2025-09-28T07:24:13.723572Z",
     "iopub.status.idle": "2025-09-28T07:24:13.819566Z",
     "shell.execute_reply": "2025-09-28T07:24:13.818957Z"
    },
    "lines_to_next_cell": 0
   },
   "outputs": [],
   "source": [
    "asmnt.loss.load_model_parameters([loss_functions])\n",
    "asmnt.loss.calculate()\n",
    "\n",
    "loss, _ = asmnt.loss.aggregate_losses(future=True)"
   ]
  },
  {
   "cell_type": "code",
   "execution_count": 9,
   "id": "3fdea09a",
   "metadata": {
    "execution": {
     "iopub.execute_input": "2025-09-28T07:24:13.821844Z",
     "iopub.status.busy": "2025-09-28T07:24:13.821633Z",
     "iopub.status.idle": "2025-09-28T07:24:13.824995Z",
     "shell.execute_reply": "2025-09-28T07:24:13.824317Z"
    },
    "nbsphinx": "hidden"
   },
   "outputs": [],
   "source": [
    "assert isinstance(loss, pd.DataFrame)\n",
    "\n",
    "loss_vals = loss['repair_cost'].to_numpy()"
   ]
  },
  {
   "cell_type": "code",
   "execution_count": 10,
   "id": "439386b0",
   "metadata": {
    "execution": {
     "iopub.execute_input": "2025-09-28T07:24:13.826852Z",
     "iopub.status.busy": "2025-09-28T07:24:13.826665Z",
     "iopub.status.idle": "2025-09-28T07:24:13.831663Z",
     "shell.execute_reply": "2025-09-28T07:24:13.831126Z"
    },
    "nbsphinx": "hidden"
   },
   "outputs": [],
   "source": [
    "# sample median should be close to 0.05\n",
    "assert np.allclose(np.median(loss_vals), 0.05, atol=1e-2)\n",
    "# dispersion should be close to 0.9\n",
    "assert np.allclose(np.log(loss_vals).std(), 0.90, atol=1e-2)"
   ]
  }
 ],
 "metadata": {
  "jupytext": {
   "cell_metadata_filter": "nbsphinx,-all",
   "main_language": "python",
   "notebook_metadata_filter": "-all",
   "text_representation": {
    "extension": ".py",
    "format_name": "percent"
   }
  },
  "language_info": {
   "codemirror_mode": {
    "name": "ipython",
    "version": 3
   },
   "file_extension": ".py",
   "mimetype": "text/x-python",
   "name": "python",
   "nbconvert_exporter": "python",
   "pygments_lexer": "ipython3",
   "version": "3.10.18"
  }
 },
 "nbformat": 4,
 "nbformat_minor": 5
}
