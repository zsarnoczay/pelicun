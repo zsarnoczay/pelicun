{
 "cells": [
  {
   "cell_type": "markdown",
   "id": "b3ebc9d5",
   "metadata": {},
   "source": [
    "# Example 1: Simple loss function."
   ]
  },
  {
   "cell_type": "markdown",
   "id": "e6e69cdf",
   "metadata": {
    "cell_marker": "\"\"\""
   },
   "source": [
    "In this example, a single loss function is defined as a 1:1 mapping of the input EDP.\n",
    "This means that the resulting loss distribution will be the same as the EDP distribution, allowing us to test and confirm that this is what happens."
   ]
  },
  {
   "cell_type": "code",
   "execution_count": 1,
   "id": "bb3e0528",
   "metadata": {
    "execution": {
     "iopub.execute_input": "2025-05-16T18:58:47.613323Z",
     "iopub.status.busy": "2025-05-16T18:58:47.612769Z",
     "iopub.status.idle": "2025-05-16T18:58:48.233495Z",
     "shell.execute_reply": "2025-05-16T18:58:48.232872Z"
    }
   },
   "outputs": [],
   "source": [
    "from __future__ import annotations\n",
    "\n",
    "import numpy as np\n",
    "import pandas as pd\n",
    "\n",
    "from pelicun import assessment, file_io"
   ]
  },
  {
   "cell_type": "code",
   "execution_count": 2,
   "id": "10771199",
   "metadata": {
    "execution": {
     "iopub.execute_input": "2025-05-16T18:58:48.235992Z",
     "iopub.status.busy": "2025-05-16T18:58:48.235520Z",
     "iopub.status.idle": "2025-05-16T18:58:48.238583Z",
     "shell.execute_reply": "2025-05-16T18:58:48.238063Z"
    }
   },
   "outputs": [],
   "source": [
    "sample_size = 100000"
   ]
  },
  {
   "cell_type": "code",
   "execution_count": 3,
   "id": "bc43949e",
   "metadata": {
    "execution": {
     "iopub.execute_input": "2025-05-16T18:58:48.240455Z",
     "iopub.status.busy": "2025-05-16T18:58:48.240087Z",
     "iopub.status.idle": "2025-05-16T18:58:48.243990Z",
     "shell.execute_reply": "2025-05-16T18:58:48.243483Z"
    }
   },
   "outputs": [],
   "source": [
    "# initialize a pelicun assessment\n",
    "asmnt = assessment.Assessment({'PrintLog': False, 'Seed': 42})"
   ]
  },
  {
   "cell_type": "code",
   "execution_count": 4,
   "id": "581d2a99",
   "metadata": {
    "execution": {
     "iopub.execute_input": "2025-05-16T18:58:48.246018Z",
     "iopub.status.busy": "2025-05-16T18:58:48.245554Z",
     "iopub.status.idle": "2025-05-16T18:58:48.311766Z",
     "shell.execute_reply": "2025-05-16T18:58:48.311027Z"
    }
   },
   "outputs": [],
   "source": [
    "\n",
    "#\n",
    "# Demands\n",
    "#\n",
    "\n",
    "demands = pd.DataFrame(\n",
    "    {\n",
    "        'Theta_0': [0.50],\n",
    "        'Theta_1': [0.90],\n",
    "        'Family': ['lognormal'],\n",
    "        'Units': ['mps2'],\n",
    "    },\n",
    "    index=pd.MultiIndex.from_tuples(\n",
    "        [\n",
    "            ('PFA', '0', '1'),\n",
    "        ],\n",
    "    ),\n",
    ")\n",
    "\n",
    "asmnt.demand.load_model({'marginals': demands})\n",
    "\n",
    "asmnt.demand.generate_sample({'SampleSize': sample_size})\n",
    "\n",
    "#\n",
    "# Asset\n",
    "#\n",
    "\n",
    "asmnt.stories = 1\n",
    "\n",
    "cmp_marginals = pd.read_csv('example_1/CMP_marginals.csv', index_col=0)\n",
    "cmp_marginals['Blocks'] = cmp_marginals['Blocks']\n",
    "asmnt.asset.load_cmp_model({'marginals': cmp_marginals})\n",
    "\n",
    "asmnt.asset.generate_cmp_sample(sample_size)"
   ]
  },
  {
   "cell_type": "code",
   "execution_count": 5,
   "id": "137b2c41",
   "metadata": {
    "execution": {
     "iopub.execute_input": "2025-05-16T18:58:48.314250Z",
     "iopub.status.busy": "2025-05-16T18:58:48.313876Z",
     "iopub.status.idle": "2025-05-16T18:58:48.316868Z",
     "shell.execute_reply": "2025-05-16T18:58:48.316309Z"
    }
   },
   "outputs": [],
   "source": [
    "#\n",
    "# Damage\n",
    "#\n",
    "\n",
    "# nothing to do here."
   ]
  },
  {
   "cell_type": "code",
   "execution_count": 6,
   "id": "cb6f0e12",
   "metadata": {
    "execution": {
     "iopub.execute_input": "2025-05-16T18:58:48.318837Z",
     "iopub.status.busy": "2025-05-16T18:58:48.318452Z",
     "iopub.status.idle": "2025-05-16T18:58:48.328886Z",
     "shell.execute_reply": "2025-05-16T18:58:48.328306Z"
    },
    "lines_to_next_cell": 0
   },
   "outputs": [],
   "source": [
    "#\n",
    "# Losses\n",
    "#\n",
    "\n",
    "asmnt.loss.decision_variables = ('Cost',)\n",
    "\n",
    "loss_map = pd.DataFrame(['cmp.A'], columns=['Repair'], index=['cmp.A'])\n",
    "asmnt.loss.add_loss_map(loss_map)\n",
    "\n",
    "loss_functions = file_io.load_data(\n",
    "    'example_1/loss_functions.csv',\n",
    "    reindex=False,\n",
    "    unit_conversion_factors=asmnt.unit_conversion_factors,\n",
    ")"
   ]
  },
  {
   "cell_type": "code",
   "execution_count": 7,
   "id": "e002683e",
   "metadata": {
    "execution": {
     "iopub.execute_input": "2025-05-16T18:58:48.330754Z",
     "iopub.status.busy": "2025-05-16T18:58:48.330535Z",
     "iopub.status.idle": "2025-05-16T18:58:48.333427Z",
     "shell.execute_reply": "2025-05-16T18:58:48.332906Z"
    },
    "lines_to_next_cell": 0,
    "nbsphinx": "hidden"
   },
   "outputs": [],
   "source": [
    "assert isinstance(loss_functions, pd.DataFrame)"
   ]
  },
  {
   "cell_type": "code",
   "execution_count": 8,
   "id": "3ed4a9f1",
   "metadata": {
    "execution": {
     "iopub.execute_input": "2025-05-16T18:58:48.335134Z",
     "iopub.status.busy": "2025-05-16T18:58:48.334952Z",
     "iopub.status.idle": "2025-05-16T18:58:48.429327Z",
     "shell.execute_reply": "2025-05-16T18:58:48.428721Z"
    },
    "lines_to_next_cell": 0
   },
   "outputs": [],
   "source": [
    "asmnt.loss.load_model_parameters([loss_functions])\n",
    "asmnt.loss.calculate()\n",
    "\n",
    "loss, _ = asmnt.loss.aggregate_losses(future=True)"
   ]
  },
  {
   "cell_type": "code",
   "execution_count": 9,
   "id": "30db7b3a",
   "metadata": {
    "execution": {
     "iopub.execute_input": "2025-05-16T18:58:48.431912Z",
     "iopub.status.busy": "2025-05-16T18:58:48.431493Z",
     "iopub.status.idle": "2025-05-16T18:58:48.434697Z",
     "shell.execute_reply": "2025-05-16T18:58:48.434155Z"
    },
    "nbsphinx": "hidden"
   },
   "outputs": [],
   "source": [
    "assert isinstance(loss, pd.DataFrame)\n",
    "\n",
    "loss_vals = loss['repair_cost'].to_numpy()"
   ]
  },
  {
   "cell_type": "code",
   "execution_count": 10,
   "id": "223baad1",
   "metadata": {
    "execution": {
     "iopub.execute_input": "2025-05-16T18:58:48.436589Z",
     "iopub.status.busy": "2025-05-16T18:58:48.436237Z",
     "iopub.status.idle": "2025-05-16T18:58:48.441644Z",
     "shell.execute_reply": "2025-05-16T18:58:48.441004Z"
    },
    "nbsphinx": "hidden"
   },
   "outputs": [],
   "source": [
    "# sample median should be close to 0.05\n",
    "assert np.allclose(np.median(loss_vals), 0.05, atol=1e-2)\n",
    "# dispersion should be close to 0.9\n",
    "assert np.allclose(np.log(loss_vals).std(), 0.90, atol=1e-2)"
   ]
  }
 ],
 "metadata": {
  "jupytext": {
   "cell_metadata_filter": "nbsphinx,-all",
   "main_language": "python",
   "notebook_metadata_filter": "-all",
   "text_representation": {
    "extension": ".py",
    "format_name": "percent"
   }
  },
  "language_info": {
   "codemirror_mode": {
    "name": "ipython",
    "version": 3
   },
   "file_extension": ".py",
   "mimetype": "text/x-python",
   "name": "python",
   "nbconvert_exporter": "python",
   "pygments_lexer": "ipython3",
   "version": "3.10.17"
  }
 },
 "nbformat": 4,
 "nbformat_minor": 5
}
