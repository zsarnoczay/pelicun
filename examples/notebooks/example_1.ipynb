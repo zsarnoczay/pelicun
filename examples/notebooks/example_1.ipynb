{
 "cells": [
  {
   "cell_type": "markdown",
   "id": "49d70e09",
   "metadata": {},
   "source": [
    "# Example 1: Simple loss function."
   ]
  },
  {
   "cell_type": "markdown",
   "id": "9ed1fb2a",
   "metadata": {
    "cell_marker": "\"\"\""
   },
   "source": [
    "In this example, a single loss function is defined as a 1:1 mapping of the input EDP.\n",
    "This means that the resulting loss distribution will be the same as the EDP distribution, allowing us to test and confirm that this is what happens."
   ]
  },
  {
   "cell_type": "code",
   "execution_count": 1,
   "id": "1cfb5dfb",
   "metadata": {
    "execution": {
     "iopub.execute_input": "2025-05-16T18:42:48.467332Z",
     "iopub.status.busy": "2025-05-16T18:42:48.467115Z",
     "iopub.status.idle": "2025-05-16T18:42:49.075495Z",
     "shell.execute_reply": "2025-05-16T18:42:49.074785Z"
    }
   },
   "outputs": [],
   "source": [
    "from __future__ import annotations\n",
    "\n",
    "import numpy as np\n",
    "import pandas as pd\n",
    "\n",
    "from pelicun import assessment, file_io"
   ]
  },
  {
   "cell_type": "code",
   "execution_count": 2,
   "id": "2c06af51",
   "metadata": {
    "execution": {
     "iopub.execute_input": "2025-05-16T18:42:49.077919Z",
     "iopub.status.busy": "2025-05-16T18:42:49.077649Z",
     "iopub.status.idle": "2025-05-16T18:42:49.080794Z",
     "shell.execute_reply": "2025-05-16T18:42:49.080243Z"
    }
   },
   "outputs": [],
   "source": [
    "sample_size = 100000"
   ]
  },
  {
   "cell_type": "code",
   "execution_count": 3,
   "id": "0538e5e7",
   "metadata": {
    "execution": {
     "iopub.execute_input": "2025-05-16T18:42:49.082522Z",
     "iopub.status.busy": "2025-05-16T18:42:49.082299Z",
     "iopub.status.idle": "2025-05-16T18:42:49.086666Z",
     "shell.execute_reply": "2025-05-16T18:42:49.086129Z"
    }
   },
   "outputs": [],
   "source": [
    "# initialize a pelicun assessment\n",
    "asmnt = assessment.Assessment({'PrintLog': False, 'Seed': 42})"
   ]
  },
  {
   "cell_type": "code",
   "execution_count": 4,
   "id": "557ef7b2",
   "metadata": {
    "execution": {
     "iopub.execute_input": "2025-05-16T18:42:49.088533Z",
     "iopub.status.busy": "2025-05-16T18:42:49.088314Z",
     "iopub.status.idle": "2025-05-16T18:42:49.165376Z",
     "shell.execute_reply": "2025-05-16T18:42:49.164716Z"
    }
   },
   "outputs": [],
   "source": [
    "\n",
    "#\n",
    "# Demands\n",
    "#\n",
    "\n",
    "demands = pd.DataFrame(\n",
    "    {\n",
    "        'Theta_0': [0.50],\n",
    "        'Theta_1': [0.90],\n",
    "        'Family': ['lognormal'],\n",
    "        'Units': ['mps2'],\n",
    "    },\n",
    "    index=pd.MultiIndex.from_tuples(\n",
    "        [\n",
    "            ('PFA', '0', '1'),\n",
    "        ],\n",
    "    ),\n",
    ")\n",
    "\n",
    "asmnt.demand.load_model({'marginals': demands})\n",
    "\n",
    "asmnt.demand.generate_sample({'SampleSize': sample_size})\n",
    "\n",
    "#\n",
    "# Asset\n",
    "#\n",
    "\n",
    "asmnt.stories = 1\n",
    "\n",
    "cmp_marginals = pd.read_csv('example_1/CMP_marginals.csv', index_col=0)\n",
    "cmp_marginals['Blocks'] = cmp_marginals['Blocks']\n",
    "asmnt.asset.load_cmp_model({'marginals': cmp_marginals})\n",
    "\n",
    "asmnt.asset.generate_cmp_sample(sample_size)"
   ]
  },
  {
   "cell_type": "code",
   "execution_count": 5,
   "id": "f959be2c",
   "metadata": {
    "execution": {
     "iopub.execute_input": "2025-05-16T18:42:49.167792Z",
     "iopub.status.busy": "2025-05-16T18:42:49.167580Z",
     "iopub.status.idle": "2025-05-16T18:42:49.170987Z",
     "shell.execute_reply": "2025-05-16T18:42:49.170275Z"
    }
   },
   "outputs": [],
   "source": [
    "#\n",
    "# Damage\n",
    "#\n",
    "\n",
    "# nothing to do here."
   ]
  },
  {
   "cell_type": "code",
   "execution_count": 6,
   "id": "0c0cabd5",
   "metadata": {
    "execution": {
     "iopub.execute_input": "2025-05-16T18:42:49.173040Z",
     "iopub.status.busy": "2025-05-16T18:42:49.172573Z",
     "iopub.status.idle": "2025-05-16T18:42:49.183252Z",
     "shell.execute_reply": "2025-05-16T18:42:49.182602Z"
    },
    "lines_to_next_cell": 0
   },
   "outputs": [],
   "source": [
    "#\n",
    "# Losses\n",
    "#\n",
    "\n",
    "asmnt.loss.decision_variables = ('Cost',)\n",
    "\n",
    "loss_map = pd.DataFrame(['cmp.A'], columns=['Repair'], index=['cmp.A'])\n",
    "asmnt.loss.add_loss_map(loss_map)\n",
    "\n",
    "loss_functions = file_io.load_data(\n",
    "    'example_1/loss_functions.csv',\n",
    "    reindex=False,\n",
    "    unit_conversion_factors=asmnt.unit_conversion_factors,\n",
    ")"
   ]
  },
  {
   "cell_type": "code",
   "execution_count": 7,
   "id": "bbfefbe8",
   "metadata": {
    "execution": {
     "iopub.execute_input": "2025-05-16T18:42:49.185576Z",
     "iopub.status.busy": "2025-05-16T18:42:49.185172Z",
     "iopub.status.idle": "2025-05-16T18:42:49.188151Z",
     "shell.execute_reply": "2025-05-16T18:42:49.187613Z"
    },
    "lines_to_next_cell": 0,
    "nbsphinx": "hidden"
   },
   "outputs": [],
   "source": [
    "assert isinstance(loss_functions, pd.DataFrame)"
   ]
  },
  {
   "cell_type": "code",
   "execution_count": 8,
   "id": "e96324ca",
   "metadata": {
    "execution": {
     "iopub.execute_input": "2025-05-16T18:42:49.189853Z",
     "iopub.status.busy": "2025-05-16T18:42:49.189672Z",
     "iopub.status.idle": "2025-05-16T18:42:49.283430Z",
     "shell.execute_reply": "2025-05-16T18:42:49.282831Z"
    },
    "lines_to_next_cell": 0
   },
   "outputs": [],
   "source": [
    "asmnt.loss.load_model_parameters([loss_functions])\n",
    "asmnt.loss.calculate()\n",
    "\n",
    "loss, _ = asmnt.loss.aggregate_losses(future=True)"
   ]
  },
  {
   "cell_type": "code",
   "execution_count": 9,
   "id": "180cd511",
   "metadata": {
    "execution": {
     "iopub.execute_input": "2025-05-16T18:42:49.285916Z",
     "iopub.status.busy": "2025-05-16T18:42:49.285511Z",
     "iopub.status.idle": "2025-05-16T18:42:49.288917Z",
     "shell.execute_reply": "2025-05-16T18:42:49.288329Z"
    },
    "nbsphinx": "hidden"
   },
   "outputs": [],
   "source": [
    "assert isinstance(loss, pd.DataFrame)\n",
    "\n",
    "loss_vals = loss['repair_cost'].to_numpy()"
   ]
  },
  {
   "cell_type": "code",
   "execution_count": 10,
   "id": "8d222997",
   "metadata": {
    "execution": {
     "iopub.execute_input": "2025-05-16T18:42:49.290860Z",
     "iopub.status.busy": "2025-05-16T18:42:49.290496Z",
     "iopub.status.idle": "2025-05-16T18:42:49.295951Z",
     "shell.execute_reply": "2025-05-16T18:42:49.295291Z"
    },
    "nbsphinx": "hidden"
   },
   "outputs": [],
   "source": [
    "# sample median should be close to 0.05\n",
    "assert np.allclose(np.median(loss_vals), 0.05, atol=1e-2)\n",
    "# dispersion should be close to 0.9\n",
    "assert np.allclose(np.log(loss_vals).std(), 0.90, atol=1e-2)"
   ]
  }
 ],
 "metadata": {
  "jupytext": {
   "cell_metadata_filter": "nbsphinx,-all",
   "main_language": "python",
   "notebook_metadata_filter": "-all",
   "text_representation": {
    "extension": ".py",
    "format_name": "percent"
   }
  },
  "language_info": {
   "codemirror_mode": {
    "name": "ipython",
    "version": 3
   },
   "file_extension": ".py",
   "mimetype": "text/x-python",
   "name": "python",
   "nbconvert_exporter": "python",
   "pygments_lexer": "ipython3",
   "version": "3.10.17"
  }
 },
 "nbformat": 4,
 "nbformat_minor": 5
}
