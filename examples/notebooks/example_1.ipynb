{
 "cells": [
  {
   "cell_type": "markdown",
   "id": "1c40e07f",
   "metadata": {},
   "source": [
    "# Example 1: Simple loss function."
   ]
  },
  {
   "cell_type": "markdown",
   "id": "431e3303",
   "metadata": {
    "cell_marker": "\"\"\""
   },
   "source": [
    "In this example, a single loss function is defined as a 1:1 mapping of the input EDP.\n",
    "This means that the resulting loss distribution will be the same as the EDP distribution, allowing us to test and confirm that this is what happens."
   ]
  },
  {
   "cell_type": "code",
   "execution_count": 1,
   "id": "4dd346d9",
   "metadata": {
    "execution": {
     "iopub.execute_input": "2025-02-04T20:23:45.419788Z",
     "iopub.status.busy": "2025-02-04T20:23:45.419577Z",
     "iopub.status.idle": "2025-02-04T20:23:46.020151Z",
     "shell.execute_reply": "2025-02-04T20:23:46.019412Z"
    }
   },
   "outputs": [],
   "source": [
    "from __future__ import annotations\n",
    "\n",
    "import numpy as np\n",
    "import pandas as pd\n",
    "\n",
    "from pelicun import assessment, file_io"
   ]
  },
  {
   "cell_type": "code",
   "execution_count": 2,
   "id": "83c55597",
   "metadata": {
    "execution": {
     "iopub.execute_input": "2025-02-04T20:23:46.022709Z",
     "iopub.status.busy": "2025-02-04T20:23:46.022233Z",
     "iopub.status.idle": "2025-02-04T20:23:46.025354Z",
     "shell.execute_reply": "2025-02-04T20:23:46.024748Z"
    }
   },
   "outputs": [],
   "source": [
    "sample_size = 100000"
   ]
  },
  {
   "cell_type": "code",
   "execution_count": 3,
   "id": "9fad4ef7",
   "metadata": {
    "execution": {
     "iopub.execute_input": "2025-02-04T20:23:46.027205Z",
     "iopub.status.busy": "2025-02-04T20:23:46.026856Z",
     "iopub.status.idle": "2025-02-04T20:23:46.031021Z",
     "shell.execute_reply": "2025-02-04T20:23:46.030511Z"
    }
   },
   "outputs": [],
   "source": [
    "# initialize a pelicun assessment\n",
    "asmnt = assessment.Assessment({'PrintLog': False, 'Seed': 42})"
   ]
  },
  {
   "cell_type": "code",
   "execution_count": 4,
   "id": "c622606c",
   "metadata": {
    "execution": {
     "iopub.execute_input": "2025-02-04T20:23:46.032767Z",
     "iopub.status.busy": "2025-02-04T20:23:46.032571Z",
     "iopub.status.idle": "2025-02-04T20:23:46.137021Z",
     "shell.execute_reply": "2025-02-04T20:23:46.136366Z"
    }
   },
   "outputs": [],
   "source": [
    "\n",
    "#\n",
    "# Demands\n",
    "#\n",
    "\n",
    "demands = pd.DataFrame(\n",
    "    {\n",
    "        'Theta_0': [0.50],\n",
    "        'Theta_1': [0.90],\n",
    "        'Family': ['lognormal'],\n",
    "        'Units': ['mps2'],\n",
    "    },\n",
    "    index=pd.MultiIndex.from_tuples(\n",
    "        [\n",
    "            ('PFA', '0', '1'),\n",
    "        ],\n",
    "    ),\n",
    ")\n",
    "\n",
    "asmnt.demand.load_model({'marginals': demands})\n",
    "\n",
    "asmnt.demand.generate_sample({'SampleSize': sample_size})\n",
    "\n",
    "#\n",
    "# Asset\n",
    "#\n",
    "\n",
    "asmnt.stories = 1\n",
    "\n",
    "cmp_marginals = pd.read_csv('example_1/CMP_marginals.csv', index_col=0)\n",
    "cmp_marginals['Blocks'] = cmp_marginals['Blocks']\n",
    "asmnt.asset.load_cmp_model({'marginals': cmp_marginals})\n",
    "\n",
    "asmnt.asset.generate_cmp_sample(sample_size)"
   ]
  },
  {
   "cell_type": "code",
   "execution_count": 5,
   "id": "af6991fe",
   "metadata": {
    "execution": {
     "iopub.execute_input": "2025-02-04T20:23:46.139493Z",
     "iopub.status.busy": "2025-02-04T20:23:46.139101Z",
     "iopub.status.idle": "2025-02-04T20:23:46.141803Z",
     "shell.execute_reply": "2025-02-04T20:23:46.141258Z"
    }
   },
   "outputs": [],
   "source": [
    "#\n",
    "# Damage\n",
    "#\n",
    "\n",
    "# nothing to do here."
   ]
  },
  {
   "cell_type": "code",
   "execution_count": 6,
   "id": "abbbe96a",
   "metadata": {
    "execution": {
     "iopub.execute_input": "2025-02-04T20:23:46.143786Z",
     "iopub.status.busy": "2025-02-04T20:23:46.143385Z",
     "iopub.status.idle": "2025-02-04T20:23:46.153344Z",
     "shell.execute_reply": "2025-02-04T20:23:46.152754Z"
    },
    "lines_to_next_cell": 0
   },
   "outputs": [],
   "source": [
    "#\n",
    "# Losses\n",
    "#\n",
    "\n",
    "asmnt.loss.decision_variables = ('Cost',)\n",
    "\n",
    "loss_map = pd.DataFrame(['cmp.A'], columns=['Repair'], index=['cmp.A'])\n",
    "asmnt.loss.add_loss_map(loss_map)\n",
    "\n",
    "loss_functions = file_io.load_data(\n",
    "    'example_1/loss_functions.csv',\n",
    "    reindex=False,\n",
    "    unit_conversion_factors=asmnt.unit_conversion_factors,\n",
    ")"
   ]
  },
  {
   "cell_type": "code",
   "execution_count": 7,
   "id": "4e570809",
   "metadata": {
    "execution": {
     "iopub.execute_input": "2025-02-04T20:23:46.155456Z",
     "iopub.status.busy": "2025-02-04T20:23:46.155090Z",
     "iopub.status.idle": "2025-02-04T20:23:46.157909Z",
     "shell.execute_reply": "2025-02-04T20:23:46.157373Z"
    },
    "lines_to_next_cell": 0,
    "nbsphinx": "hidden"
   },
   "outputs": [],
   "source": [
    "assert isinstance(loss_functions, pd.DataFrame)"
   ]
  },
  {
   "cell_type": "code",
   "execution_count": 8,
   "id": "ae1cf741",
   "metadata": {
    "execution": {
     "iopub.execute_input": "2025-02-04T20:23:46.159698Z",
     "iopub.status.busy": "2025-02-04T20:23:46.159507Z",
     "iopub.status.idle": "2025-02-04T20:23:46.253231Z",
     "shell.execute_reply": "2025-02-04T20:23:46.252540Z"
    },
    "lines_to_next_cell": 0
   },
   "outputs": [],
   "source": [
    "asmnt.loss.load_model_parameters([loss_functions])\n",
    "asmnt.loss.calculate()\n",
    "\n",
    "loss, _ = asmnt.loss.aggregate_losses(future=True)"
   ]
  },
  {
   "cell_type": "code",
   "execution_count": 9,
   "id": "1d89eaba",
   "metadata": {
    "execution": {
     "iopub.execute_input": "2025-02-04T20:23:46.255720Z",
     "iopub.status.busy": "2025-02-04T20:23:46.255311Z",
     "iopub.status.idle": "2025-02-04T20:23:46.258663Z",
     "shell.execute_reply": "2025-02-04T20:23:46.258117Z"
    },
    "nbsphinx": "hidden"
   },
   "outputs": [],
   "source": [
    "assert isinstance(loss, pd.DataFrame)\n",
    "\n",
    "loss_vals = loss['repair_cost'].to_numpy()"
   ]
  },
  {
   "cell_type": "code",
   "execution_count": 10,
   "id": "3954a0eb",
   "metadata": {
    "execution": {
     "iopub.execute_input": "2025-02-04T20:23:46.260556Z",
     "iopub.status.busy": "2025-02-04T20:23:46.260189Z",
     "iopub.status.idle": "2025-02-04T20:23:46.265239Z",
     "shell.execute_reply": "2025-02-04T20:23:46.264756Z"
    },
    "nbsphinx": "hidden"
   },
   "outputs": [],
   "source": [
    "# sample median should be close to 0.05\n",
    "assert np.allclose(np.median(loss_vals), 0.05, atol=1e-2)\n",
    "# dispersion should be close to 0.9\n",
    "assert np.allclose(np.log(loss_vals).std(), 0.90, atol=1e-2)"
   ]
  }
 ],
 "metadata": {
  "jupytext": {
   "cell_metadata_filter": "nbsphinx,-all",
   "main_language": "python",
   "notebook_metadata_filter": "-all",
   "text_representation": {
    "extension": ".py",
    "format_name": "percent"
   }
  },
  "language_info": {
   "codemirror_mode": {
    "name": "ipython",
    "version": 3
   },
   "file_extension": ".py",
   "mimetype": "text/x-python",
   "name": "python",
   "nbconvert_exporter": "python",
   "pygments_lexer": "ipython3",
   "version": "3.10.16"
  }
 },
 "nbformat": 4,
 "nbformat_minor": 5
}
