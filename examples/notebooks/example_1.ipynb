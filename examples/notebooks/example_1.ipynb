{
 "cells": [
  {
   "cell_type": "markdown",
   "id": "730780d0",
   "metadata": {},
   "source": [
    "# Example 1: Simple loss function."
   ]
  },
  {
   "cell_type": "markdown",
   "id": "c68a3092",
   "metadata": {
    "cell_marker": "\"\"\""
   },
   "source": [
    "In this example, a single loss function is defined as a 1:1 mapping of the input EDP.\n",
    "This means that the resulting loss distribution will be the same as the EDP distribution, allowing us to test and confirm that this is what happens."
   ]
  },
  {
   "cell_type": "code",
   "execution_count": 1,
   "id": "12c78138",
   "metadata": {
    "execution": {
     "iopub.execute_input": "2025-02-04T20:32:31.167204Z",
     "iopub.status.busy": "2025-02-04T20:32:31.166991Z",
     "iopub.status.idle": "2025-02-04T20:32:31.778081Z",
     "shell.execute_reply": "2025-02-04T20:32:31.777425Z"
    }
   },
   "outputs": [],
   "source": [
    "from __future__ import annotations\n",
    "\n",
    "import numpy as np\n",
    "import pandas as pd\n",
    "\n",
    "from pelicun import assessment, file_io"
   ]
  },
  {
   "cell_type": "code",
   "execution_count": 2,
   "id": "f84f5d91",
   "metadata": {
    "execution": {
     "iopub.execute_input": "2025-02-04T20:32:31.780577Z",
     "iopub.status.busy": "2025-02-04T20:32:31.780295Z",
     "iopub.status.idle": "2025-02-04T20:32:31.783255Z",
     "shell.execute_reply": "2025-02-04T20:32:31.782725Z"
    }
   },
   "outputs": [],
   "source": [
    "sample_size = 100000"
   ]
  },
  {
   "cell_type": "code",
   "execution_count": 3,
   "id": "3b07e343",
   "metadata": {
    "execution": {
     "iopub.execute_input": "2025-02-04T20:32:31.785128Z",
     "iopub.status.busy": "2025-02-04T20:32:31.784926Z",
     "iopub.status.idle": "2025-02-04T20:32:31.789450Z",
     "shell.execute_reply": "2025-02-04T20:32:31.788931Z"
    }
   },
   "outputs": [],
   "source": [
    "# initialize a pelicun assessment\n",
    "asmnt = assessment.Assessment({'PrintLog': False, 'Seed': 42})"
   ]
  },
  {
   "cell_type": "code",
   "execution_count": 4,
   "id": "7e566939",
   "metadata": {
    "execution": {
     "iopub.execute_input": "2025-02-04T20:32:31.791241Z",
     "iopub.status.busy": "2025-02-04T20:32:31.791029Z",
     "iopub.status.idle": "2025-02-04T20:32:31.855182Z",
     "shell.execute_reply": "2025-02-04T20:32:31.854503Z"
    }
   },
   "outputs": [],
   "source": [
    "\n",
    "#\n",
    "# Demands\n",
    "#\n",
    "\n",
    "demands = pd.DataFrame(\n",
    "    {\n",
    "        'Theta_0': [0.50],\n",
    "        'Theta_1': [0.90],\n",
    "        'Family': ['lognormal'],\n",
    "        'Units': ['mps2'],\n",
    "    },\n",
    "    index=pd.MultiIndex.from_tuples(\n",
    "        [\n",
    "            ('PFA', '0', '1'),\n",
    "        ],\n",
    "    ),\n",
    ")\n",
    "\n",
    "asmnt.demand.load_model({'marginals': demands})\n",
    "\n",
    "asmnt.demand.generate_sample({'SampleSize': sample_size})\n",
    "\n",
    "#\n",
    "# Asset\n",
    "#\n",
    "\n",
    "asmnt.stories = 1\n",
    "\n",
    "cmp_marginals = pd.read_csv('example_1/CMP_marginals.csv', index_col=0)\n",
    "cmp_marginals['Blocks'] = cmp_marginals['Blocks']\n",
    "asmnt.asset.load_cmp_model({'marginals': cmp_marginals})\n",
    "\n",
    "asmnt.asset.generate_cmp_sample(sample_size)"
   ]
  },
  {
   "cell_type": "code",
   "execution_count": 5,
   "id": "80b4e511",
   "metadata": {
    "execution": {
     "iopub.execute_input": "2025-02-04T20:32:31.857364Z",
     "iopub.status.busy": "2025-02-04T20:32:31.857144Z",
     "iopub.status.idle": "2025-02-04T20:32:31.860053Z",
     "shell.execute_reply": "2025-02-04T20:32:31.859475Z"
    }
   },
   "outputs": [],
   "source": [
    "#\n",
    "# Damage\n",
    "#\n",
    "\n",
    "# nothing to do here."
   ]
  },
  {
   "cell_type": "code",
   "execution_count": 6,
   "id": "a4f20869",
   "metadata": {
    "execution": {
     "iopub.execute_input": "2025-02-04T20:32:31.862031Z",
     "iopub.status.busy": "2025-02-04T20:32:31.861685Z",
     "iopub.status.idle": "2025-02-04T20:32:31.871983Z",
     "shell.execute_reply": "2025-02-04T20:32:31.871364Z"
    },
    "lines_to_next_cell": 0
   },
   "outputs": [],
   "source": [
    "#\n",
    "# Losses\n",
    "#\n",
    "\n",
    "asmnt.loss.decision_variables = ('Cost',)\n",
    "\n",
    "loss_map = pd.DataFrame(['cmp.A'], columns=['Repair'], index=['cmp.A'])\n",
    "asmnt.loss.add_loss_map(loss_map)\n",
    "\n",
    "loss_functions = file_io.load_data(\n",
    "    'example_1/loss_functions.csv',\n",
    "    reindex=False,\n",
    "    unit_conversion_factors=asmnt.unit_conversion_factors,\n",
    ")"
   ]
  },
  {
   "cell_type": "code",
   "execution_count": 7,
   "id": "98f62b1d",
   "metadata": {
    "execution": {
     "iopub.execute_input": "2025-02-04T20:32:31.874284Z",
     "iopub.status.busy": "2025-02-04T20:32:31.873681Z",
     "iopub.status.idle": "2025-02-04T20:32:31.876867Z",
     "shell.execute_reply": "2025-02-04T20:32:31.876254Z"
    },
    "lines_to_next_cell": 0,
    "nbsphinx": "hidden"
   },
   "outputs": [],
   "source": [
    "assert isinstance(loss_functions, pd.DataFrame)"
   ]
  },
  {
   "cell_type": "code",
   "execution_count": 8,
   "id": "6d0e535f",
   "metadata": {
    "execution": {
     "iopub.execute_input": "2025-02-04T20:32:31.878790Z",
     "iopub.status.busy": "2025-02-04T20:32:31.878597Z",
     "iopub.status.idle": "2025-02-04T20:32:31.971469Z",
     "shell.execute_reply": "2025-02-04T20:32:31.970822Z"
    },
    "lines_to_next_cell": 0
   },
   "outputs": [],
   "source": [
    "asmnt.loss.load_model_parameters([loss_functions])\n",
    "asmnt.loss.calculate()\n",
    "\n",
    "loss, _ = asmnt.loss.aggregate_losses(future=True)"
   ]
  },
  {
   "cell_type": "code",
   "execution_count": 9,
   "id": "7e94d5e7",
   "metadata": {
    "execution": {
     "iopub.execute_input": "2025-02-04T20:32:31.973989Z",
     "iopub.status.busy": "2025-02-04T20:32:31.973597Z",
     "iopub.status.idle": "2025-02-04T20:32:31.976978Z",
     "shell.execute_reply": "2025-02-04T20:32:31.976461Z"
    },
    "nbsphinx": "hidden"
   },
   "outputs": [],
   "source": [
    "assert isinstance(loss, pd.DataFrame)\n",
    "\n",
    "loss_vals = loss['repair_cost'].to_numpy()"
   ]
  },
  {
   "cell_type": "code",
   "execution_count": 10,
   "id": "16e312e0",
   "metadata": {
    "execution": {
     "iopub.execute_input": "2025-02-04T20:32:31.978838Z",
     "iopub.status.busy": "2025-02-04T20:32:31.978544Z",
     "iopub.status.idle": "2025-02-04T20:32:31.983652Z",
     "shell.execute_reply": "2025-02-04T20:32:31.983138Z"
    },
    "nbsphinx": "hidden"
   },
   "outputs": [],
   "source": [
    "# sample median should be close to 0.05\n",
    "assert np.allclose(np.median(loss_vals), 0.05, atol=1e-2)\n",
    "# dispersion should be close to 0.9\n",
    "assert np.allclose(np.log(loss_vals).std(), 0.90, atol=1e-2)"
   ]
  }
 ],
 "metadata": {
  "jupytext": {
   "cell_metadata_filter": "nbsphinx,-all",
   "main_language": "python",
   "notebook_metadata_filter": "-all",
   "text_representation": {
    "extension": ".py",
    "format_name": "percent"
   }
  },
  "language_info": {
   "codemirror_mode": {
    "name": "ipython",
    "version": 3
   },
   "file_extension": ".py",
   "mimetype": "text/x-python",
   "name": "python",
   "nbconvert_exporter": "python",
   "pygments_lexer": "ipython3",
   "version": "3.10.16"
  }
 },
 "nbformat": 4,
 "nbformat_minor": 5
}
