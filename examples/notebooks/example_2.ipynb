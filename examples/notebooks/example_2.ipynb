{
 "cells": [
  {
   "cell_type": "markdown",
   "id": "ce597a4c",
   "metadata": {
    "cell_marker": "r\"\"\""
   },
   "source": [
    "# Example 2: Damage state validation.\n",
    "\n",
    "Validation test for the probability of each damage state of a\n",
    "component.\n",
    "\n",
    "Here we test whether we get the correct damage state probabilities for\n",
    "a single component with two damage states.\n",
    "For such a component, assuming the EDP demand and the fragility curve\n",
    "capacities are all lognormal, there is a closed-form solution for the\n",
    "probability of each damage state.\n",
    "We utilize those equations to ensure that the probabilities obtained\n",
    "from our Monte-Carlo sample are in line with our expectations.\n",
    "\n",
    "If $\\mathrm{Y} \\sim \\textrm{LogNormal}(\\delta, \\beta)$,\n",
    "then  $\\mathrm{X} = \\log(\\mathrm{Y}) \\sim \\textrm{Normal}(\\mu, \\sigma)$ with\n",
    "$\\mu = \\log(\\delta)$ and $\\sigma = \\beta$.\n",
    "\n",
    "$$\n",
    "\\begin{align*}\n",
    "\\mathrm{P}(\\mathrm{DS}=0) &= 1 - \\Phi\\left(\\frac{\\log(\\delta_D) - \\log(\\delta_{C1})}{\\sqrt{\\beta_{D}^2 + \\beta_{C1}^2}}\\right), \\\\\n",
    "\\mathrm{P}(\\mathrm{DS}=1) &= \\Phi\\left(\\frac{\\log(\\delta_D) - \\log(\\delta_{C1})}{\\sqrt{\\beta_D^2 + \\beta_{C1}^2}}\\right) - \\Phi\\left(\\frac{\\log(\\delta_{D}) - \\log(\\delta_{C2})}{\\sqrt{\\beta_D^2 + \\beta_{C2}^2}}\\right), \\\\\n",
    "\\mathrm{P}(\\mathrm{DS}=2) &= \\Phi\\left(\\frac{\\log(\\delta_D) - \\log(\\delta_{C2})}{\\sqrt{\\beta_D^2 + \\beta_{C2}^2}}\\right), \\\\\n",
    "\\end{align*}\n",
    "$$\n",
    "where $\\Phi$ is the cumulative distribution function of the standard normal distribution,\n",
    "$\\delta_{C1}$, $\\delta_{C2}$, $\\beta_{C1}$, $\\beta_{C2}$ are the medians and dispersions of the\n",
    "fragility curve capacities, and $\\delta_{D}$, $\\beta_{D}$ is\n",
    "the median and dispersion of the EDP demand.\n",
    "\n",
    "The equations inherently assume that the capacity RVs for the damage\n",
    "states are perfectly correlated, which is the case for sequential\n",
    "damage states."
   ]
  },
  {
   "cell_type": "code",
   "execution_count": 1,
   "id": "daa02b38",
   "metadata": {
    "execution": {
     "iopub.execute_input": "2025-02-25T06:29:39.191289Z",
     "iopub.status.busy": "2025-02-25T06:29:39.190795Z",
     "iopub.status.idle": "2025-02-25T06:29:39.840815Z",
     "shell.execute_reply": "2025-02-25T06:29:39.840017Z"
    }
   },
   "outputs": [],
   "source": [
    "from __future__ import annotations\n",
    "\n",
    "import tempfile\n",
    "\n",
    "import numpy as np\n",
    "import pandas as pd\n",
    "from scipy.stats import norm  # type: ignore\n",
    "\n",
    "from pelicun import assessment, file_io"
   ]
  },
  {
   "cell_type": "code",
   "execution_count": 2,
   "id": "910bd808",
   "metadata": {
    "execution": {
     "iopub.execute_input": "2025-02-25T06:29:39.843306Z",
     "iopub.status.busy": "2025-02-25T06:29:39.843017Z",
     "iopub.status.idle": "2025-02-25T06:29:39.848370Z",
     "shell.execute_reply": "2025-02-25T06:29:39.847637Z"
    }
   },
   "outputs": [],
   "source": [
    "sample_size = 1000000\n",
    "\n",
    "asmnt = assessment.Assessment({'PrintLog': False, 'Seed': 42})"
   ]
  },
  {
   "cell_type": "code",
   "execution_count": 3,
   "id": "bc65f6be",
   "metadata": {
    "execution": {
     "iopub.execute_input": "2025-02-25T06:29:39.850391Z",
     "iopub.status.busy": "2025-02-25T06:29:39.850192Z",
     "iopub.status.idle": "2025-02-25T06:29:39.950875Z",
     "shell.execute_reply": "2025-02-25T06:29:39.950298Z"
    }
   },
   "outputs": [],
   "source": [
    "#\n",
    "# Demands\n",
    "#\n",
    "\n",
    "demands = pd.DataFrame(\n",
    "    {\n",
    "        'Theta_0': [0.015],\n",
    "        'Theta_1': [0.60],\n",
    "        'Family': ['lognormal'],\n",
    "        'Units': ['rad'],\n",
    "    },\n",
    "    index=pd.MultiIndex.from_tuples(\n",
    "        [\n",
    "            ('PID', '1', '1'),\n",
    "        ],\n",
    "    ),\n",
    ")\n",
    "\n",
    "# load the demand model\n",
    "asmnt.demand.load_model({'marginals': demands})\n",
    "\n",
    "# generate samples\n",
    "asmnt.demand.generate_sample({'SampleSize': sample_size})"
   ]
  },
  {
   "cell_type": "code",
   "execution_count": 4,
   "id": "639d40a8",
   "metadata": {
    "execution": {
     "iopub.execute_input": "2025-02-25T06:29:39.953260Z",
     "iopub.status.busy": "2025-02-25T06:29:39.952858Z",
     "iopub.status.idle": "2025-02-25T06:29:40.003554Z",
     "shell.execute_reply": "2025-02-25T06:29:40.002930Z"
    }
   },
   "outputs": [],
   "source": [
    "#\n",
    "# Asset\n",
    "#\n",
    "\n",
    "# specify number of stories\n",
    "asmnt.stories = 1\n",
    "\n",
    "# load component definitions\n",
    "cmp_marginals = pd.read_csv('example_2/CMP_marginals.csv', index_col=0)\n",
    "cmp_marginals['Blocks'] = cmp_marginals['Blocks']\n",
    "asmnt.asset.load_cmp_model({'marginals': cmp_marginals})\n",
    "\n",
    "# generate sample\n",
    "asmnt.asset.generate_cmp_sample(sample_size)"
   ]
  },
  {
   "cell_type": "code",
   "execution_count": 5,
   "id": "4dc5a253",
   "metadata": {
    "execution": {
     "iopub.execute_input": "2025-02-25T06:29:40.005918Z",
     "iopub.status.busy": "2025-02-25T06:29:40.005511Z",
     "iopub.status.idle": "2025-02-25T06:29:40.473761Z",
     "shell.execute_reply": "2025-02-25T06:29:40.473023Z"
    }
   },
   "outputs": [],
   "source": [
    "#\n",
    "# Damage\n",
    "#\n",
    "\n",
    "damage_db = file_io.load_data(\n",
    "    'example_2/damage_db.csv',\n",
    "    reindex=False,\n",
    "    unit_conversion_factors=asmnt.unit_conversion_factors,\n",
    ")\n",
    "assert isinstance(damage_db, pd.DataFrame)\n",
    "\n",
    "cmp_set = set(asmnt.asset.list_unique_component_ids())\n",
    "\n",
    "# load the models into pelicun\n",
    "asmnt.damage.load_model_parameters([damage_db], cmp_set)\n",
    "\n",
    "# calculate damages\n",
    "asmnt.damage.calculate()\n",
    "\n",
    "probs = asmnt.damage.ds_model.probabilities()"
   ]
  },
  {
   "cell_type": "code",
   "execution_count": 6,
   "id": "45ee8b62",
   "metadata": {
    "execution": {
     "iopub.execute_input": "2025-02-25T06:29:40.476292Z",
     "iopub.status.busy": "2025-02-25T06:29:40.475890Z",
     "iopub.status.idle": "2025-02-25T06:29:40.482371Z",
     "shell.execute_reply": "2025-02-25T06:29:40.481834Z"
    }
   },
   "outputs": [],
   "source": [
    "#\n",
    "# Analytical calculation of the probability of each damage state\n",
    "#\n",
    "\n",
    "demand_median = 0.015\n",
    "demand_beta = 0.60\n",
    "capacity_1_median = 0.015\n",
    "capacity_2_median = 0.02\n",
    "capacity_beta = 0.50\n",
    "\n",
    "# If Y is LogNormal(delta, beta), then X = Log(Y) is Normal(mu, sigma)\n",
    "# with mu = log(delta) and sigma = beta\n",
    "demand_mean = np.log(demand_median)\n",
    "capacity_1_mean = np.log(capacity_1_median)\n",
    "capacity_2_mean = np.log(capacity_2_median)\n",
    "demand_std = demand_beta\n",
    "capacity_std = capacity_beta\n",
    "\n",
    "p0 = 1.00 - norm.cdf(\n",
    "    (demand_mean - capacity_1_mean) / np.sqrt(demand_std**2 + capacity_std**2)\n",
    ")\n",
    "p1 = norm.cdf(\n",
    "    (demand_mean - capacity_1_mean) / np.sqrt(demand_std**2 + capacity_std**2)\n",
    ") - norm.cdf(\n",
    "    (demand_mean - capacity_2_mean) / np.sqrt(demand_std**2 + capacity_std**2)\n",
    ")\n",
    "p2 = norm.cdf(\n",
    "    (demand_mean - capacity_2_mean) / np.sqrt(demand_std**2 + capacity_std**2)\n",
    ")\n",
    "\n",
    "assert np.allclose(probs.iloc[0, 0], p0, atol=1e-2)  # type: ignore\n",
    "assert np.allclose(probs.iloc[0, 1], p1, atol=1e-2)  # type: ignore\n",
    "assert np.allclose(probs.iloc[0, 2], p2, atol=1e-2)  # type: ignore"
   ]
  },
  {
   "cell_type": "code",
   "execution_count": 7,
   "id": "2b847f37",
   "metadata": {
    "execution": {
     "iopub.execute_input": "2025-02-25T06:29:40.484331Z",
     "iopub.status.busy": "2025-02-25T06:29:40.483944Z",
     "iopub.status.idle": "2025-02-25T06:29:40.503968Z",
     "shell.execute_reply": "2025-02-25T06:29:40.503433Z"
    },
    "nbsphinx": "hidden"
   },
   "outputs": [],
   "source": [
    "#\n",
    "# Also test load/save sample\n",
    "#\n",
    "\n",
    "assert asmnt.damage.ds_model.sample is not None\n",
    "asmnt.damage.ds_model.sample = asmnt.damage.ds_model.sample.iloc[0:100, :]\n",
    "# (we reduce the number of realizations to conserve resources)\n",
    "before = asmnt.damage.ds_model.sample.copy()\n",
    "temp_dir = tempfile.mkdtemp()\n",
    "asmnt.damage.save_sample(f'{temp_dir}/mdl.csv')\n",
    "asmnt.damage.load_sample(f'{temp_dir}/mdl.csv')\n",
    "pd.testing.assert_frame_equal(before, asmnt.damage.ds_model.sample)"
   ]
  }
 ],
 "metadata": {
  "jupytext": {
   "cell_metadata_filter": "nbsphinx,-all",
   "main_language": "python",
   "notebook_metadata_filter": "-all",
   "text_representation": {
    "extension": ".py",
    "format_name": "percent"
   }
  },
  "language_info": {
   "codemirror_mode": {
    "name": "ipython",
    "version": 3
   },
   "file_extension": ".py",
   "mimetype": "text/x-python",
   "name": "python",
   "nbconvert_exporter": "python",
   "pygments_lexer": "ipython3",
   "version": "3.10.16"
  }
 },
 "nbformat": 4,
 "nbformat_minor": 5
}
